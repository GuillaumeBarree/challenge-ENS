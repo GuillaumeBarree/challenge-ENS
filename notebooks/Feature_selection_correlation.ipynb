{
 "cells": [
  {
   "cell_type": "markdown",
   "metadata": {},
   "source": [
    "# Some preliminary python code"
   ]
  },
  {
   "cell_type": "code",
   "execution_count": 5,
   "metadata": {},
   "outputs": [],
   "source": [
    "%matplotlib inline\n",
    "\n",
    "import warnings; warnings.simplefilter('ignore')\n",
    "\n",
    "import matplotlib.pyplot as plt\n",
    "import numpy as np\n",
    "import pandas as pd\n",
    "import tqdm\n",
    "import numpy as np\n",
    "import os\n",
    "import sklearn"
   ]
  },
  {
   "cell_type": "markdown",
   "metadata": {},
   "source": [
    "# Univariate continuous -> continuous filter: Boston housing regression dataset\n",
    "\n",
    "As an example, we will consider the boston housing prices dataset. This regression dataset has 13 continuous (real, positive) features with 506 samples. "
   ]
  },
  {
   "cell_type": "code",
   "execution_count": 16,
   "metadata": {},
   "outputs": [],
   "source": [
    "from sklearn.datasets import load_boston\n",
    "from sklearn.model_selection import train_test_split\n",
    "from sklearn.model_selection import cross_val_score\n",
    "from sklearn.pipeline import make_pipeline\n",
    "\n",
    "from sklearn.feature_selection import SelectKBest, SelectPercentile\n",
    "from sklearn.feature_selection import f_regression\n",
    "\n",
    "from sklearn.pipeline import make_pipeline\n",
    "from sklearn.svm import SVR\n",
    "from sklearn.ensemble import RandomForestRegressor\n",
    "from sklearn.preprocessing import StandardScaler"
   ]
  },
  {
   "cell_type": "code",
   "execution_count": 6,
   "metadata": {},
   "outputs": [
    {
     "name": "stderr",
     "output_type": "stream",
     "text": [
      "100%|██████████| 2/2 [00:00<00:00, 50.32it/s]\n"
     ]
    }
   ],
   "source": [
    "path_to_data = '../data/train'\n",
    "data = {}\n",
    "data_files = os.listdir(path_to_data)\n",
    "\n",
    "for datafile in tqdm.tqdm(data_files):\n",
    "    if \"input\" in datafile:\n",
    "        data[\"input\"] = pd.read_csv(\n",
    "            os.path.join(path_to_data, datafile), delimiter=\",\", decimal=\".\"\n",
    "        )\n",
    "    else:\n",
    "        data[\"target\"] = pd.read_csv(\n",
    "            os.path.join(path_to_data, datafile), delimiter=\",\", decimal=\".\"\n",
    "        )"
   ]
  },
  {
   "cell_type": "code",
   "execution_count": 8,
   "metadata": {},
   "outputs": [
    {
     "name": "stdout",
     "output_type": "stream",
     "text": [
      "(869, 295) (218, 295) (869,) (218,)\n"
     ]
    }
   ],
   "source": [
    "from sklearn.model_selection import train_test_split\n",
    "\n",
    "filters = data['input'][[\"_ID\"]]\n",
    "\n",
    "target = data['target'][[\"Y\"]]\n",
    "\n",
    "features = data['input'].drop(filters, axis=1)\n",
    "\n",
    "x_train, x_test, y_train, y_test = train_test_split(features,target,test_size=0.20,random_state=0)\n",
    "y_train = y_train.values.ravel()\n",
    "y_test = y_test.values.ravel()\n",
    "\n",
    "print(x_train.shape, x_test.shape, y_train.shape, y_test.shape)\n"
   ]
  },
  {
   "cell_type": "markdown",
   "metadata": {},
   "source": [
    "## Baseline without feature selection"
   ]
  },
  {
   "cell_type": "markdown",
   "metadata": {},
   "source": [
    "**Without** feature selection, we use all the 13 features for the RBF SVR"
   ]
  },
  {
   "cell_type": "code",
   "execution_count": 11,
   "metadata": {
    "scrolled": true
   },
   "outputs": [
    {
     "name": "stdout",
     "output_type": "stream",
     "text": [
      "RMSE on the test set : 0.20\n"
     ]
    },
    {
     "data": {
      "image/png": "[encoded data removed]",
      "text/plain": [
       "<Figure size 432x288 with 1 Axes>"
      ]
     },
     "metadata": {
      "needs_background": "light"
     },
     "output_type": "display_data"
    },
    {
     "name": "stdout",
     "output_type": "stream",
     "text": [
      "Real risk by cross validation: 0.22\n"
     ]
    }
   ],
   "source": [
    "# Train the classification SVR\n",
    "clf = SVR(kernel='rbf')\n",
    "clf.fit(x_train, y_train) \n",
    "\n",
    "# Finally, we estimate the MSE on the test set\n",
    "y_test_pred = clf.predict(x_test)\n",
    "rmse = np.sqrt(((y_test - y_test_pred)**2).mean())\n",
    "print(\"RMSE on the test set : {:.2f}\".format(rmse))\n",
    "\n",
    "plt.figure()\n",
    "plt.plot(y_train, clf.predict(x_train)-y_train,'+', color='tab:blue', label='train')\n",
    "plt.plot(y_test, clf.predict(x_test)-y_test,'+', color='tab:red', label='test')\n",
    "plt.legend()\n",
    "plt.show()\n",
    "\n",
    "# We can also estimate the real risk by cross validating the whole process\n",
    "clf = make_pipeline(SVR(kernel='rbf'))\n",
    "scores = -cross_val_score(clf, features, target,\n",
    "                         scoring='neg_mean_squared_error', cv=5)\n",
    "print(\"Real risk by cross validation: %0.2f\" % (np.sqrt(scores.mean())))\n"
   ]
  },
  {
   "cell_type": "markdown",
   "metadata": {},
   "source": [
    "## Compute the correlation coefficients"
   ]
  },
  {
   "cell_type": "code",
   "execution_count": 12,
   "metadata": {},
   "outputs": [
    {
     "name": "stdout",
     "output_type": "stream",
     "text": [
      "[5.83251638e-01 4.14889156e+01 3.42855403e+00 2.03643154e+00\n",
      " 8.26982658e+00 1.82464701e+01 2.14614955e+00 8.14860211e+00\n",
      " 2.29144614e+01 7.88749749e-01 8.99254862e+00 2.93596144e+01\n",
      " 8.53982260e-01 2.39146259e+01 1.47518126e-02 6.20222872e+00\n",
      " 1.45212131e+01 5.41476623e+00 2.63672315e+00 1.21380793e+01\n",
      " 3.80841110e+01 4.13603733e+00 3.62761525e+00 8.68229790e+01\n",
      " 4.09368195e+01 2.84132296e-01 6.13695738e+00 2.41185015e-01\n",
      " 1.01405849e+02 7.68529643e+00 2.80922838e-02 1.25408007e-01\n",
      " 3.64703246e-01 5.16535092e+00 2.88185062e+00 4.78530032e+01\n",
      " 3.84372329e-01 2.67029620e-01 2.43601003e+00 6.79828749e-02\n",
      " 1.45892548e+01 4.93625753e-01 6.26443516e+00 2.79792266e+00\n",
      " 1.13366071e+01 1.04154313e+01 1.91229454e-01 7.48450144e+00\n",
      " 3.11317990e+00 6.33839440e+01 3.03075512e+00 5.40824847e+00\n",
      " 6.32466139e+00 1.37697031e+00 2.35597015e+00 2.91616950e+00\n",
      " 2.60809131e-01 9.70142607e+01 3.02152178e+00 5.67476771e+01\n",
      " 2.86621069e-01 1.79651773e+01 7.80896805e+01 3.69879497e-01\n",
      " 8.20980294e-02 2.08306838e+01 2.14144344e+01 2.20273995e+01\n",
      " 3.77180946e+01 1.13515364e+01 2.47181298e+00 1.73920153e-01\n",
      " 3.45877468e+00 1.08083038e+00 3.52812404e+01 3.72121476e-01\n",
      " 8.29116314e+00 2.93630235e+01 4.16347897e+00 8.40994993e+00\n",
      " 1.59868290e+01 5.79473133e+00 2.31232908e+00 5.82488580e+00\n",
      " 4.57212710e-01 2.01180745e+00 4.99950109e+01 1.12766385e+00\n",
      " 5.27080012e-01 3.55889994e+01 2.75247935e+00 4.28579849e+01\n",
      " 1.85159533e+02 8.08579922e+01 1.53165744e-01 9.99683991e-03\n",
      " 5.27562337e+00 6.83866497e-01 4.79204763e-01 5.61747263e+00\n",
      " 5.12320135e+00 6.38805763e+00 2.64385833e+00 2.30745360e+00\n",
      " 2.15952428e+01 7.45963498e+00 1.52924795e+01 5.17507495e+00\n",
      " 7.36265068e-01 4.22674031e+01 7.58612433e+00 6.62783630e+00\n",
      " 7.15931276e+01 9.92458974e-02 8.32817958e+00 3.81008819e+01\n",
      " 2.13938047e+02 4.24129176e-01 5.69715771e-01 2.61475641e+00\n",
      " 2.28648730e+00 7.14065700e+00 1.25033785e-01 2.18715845e+00\n",
      " 5.57135736e-01 2.69587935e+01 9.92458974e-02 1.86813102e+01\n",
      " 3.03581262e+00 2.66194804e+01 6.73745497e-01 6.65161579e-01\n",
      " 7.13576132e-01 5.64268386e+01 1.03041178e+01 1.81041701e-04\n",
      " 1.42201078e+00 1.01956860e-01 3.27600172e+01 2.65407035e+01\n",
      " 3.87387255e+01 2.23422563e+00 1.67995808e+01 2.79035064e-02\n",
      " 8.88105784e+00 5.45219570e+00 2.11440322e-01 6.68852984e-03\n",
      " 8.67812387e-01 7.43258293e-01 3.30575834e-01 2.69343997e+02\n",
      " 7.37685634e-02 1.19793323e+01 5.40824847e+00            nan\n",
      " 2.28165422e+00 1.45511843e-01 3.28956446e+01 2.13889099e+00\n",
      " 1.11610580e-01 1.72901951e+01 1.93782868e+01 3.36915981e+00\n",
      " 2.08774972e+01 3.65242743e-01 9.40221971e+00 7.86858953e-01\n",
      " 4.45895689e+00 6.96990631e-02 2.98341851e-01 7.36265068e-01\n",
      " 3.06161937e+01 8.98203205e-01 3.32230253e-03 1.23250628e-02\n",
      " 9.51727218e-03 1.61463390e+01 3.31084016e+00 1.00527130e+01\n",
      " 4.30068932e+01 6.91119028e+00 1.84506102e+01 3.74623917e+01\n",
      " 5.66989103e+00 1.08260233e+01 1.82637947e+01 3.17561650e+00\n",
      " 2.67555704e+01 4.14862335e-01 1.07661429e-01 4.03050167e-01\n",
      " 7.51710829e+00 2.28165422e+00 2.13231926e-01 3.43884729e+00\n",
      " 2.57312161e+01 1.80361232e+00 4.17547230e+01 3.18536048e+01\n",
      " 7.24446693e-02 1.81333445e+01 2.25950357e+01 1.05235147e+02\n",
      " 4.37968441e+01 2.77369051e+01 1.83704440e+01 5.49246687e-01\n",
      " 6.49388140e+00 4.23412515e+01 7.98873499e-01 1.87360008e+01\n",
      " 4.70257824e+00 2.36532796e+00 3.70203739e+01 6.25716466e+00\n",
      " 1.06490713e-01 4.76211638e+00 7.63262977e+00 2.18283638e+00\n",
      " 8.53131405e-01 6.13372371e-01 4.31555251e+01 4.45417161e+01\n",
      " 3.34936119e-01 1.32954328e+01 5.89441605e+00 4.27390826e+00\n",
      " 7.44945203e+00 4.44286723e+00 4.18270211e+01 1.18253585e+00\n",
      " 4.45563393e+01 8.26211296e+00 1.99830220e-01 8.61852441e+00\n",
      " 1.16932019e+01 1.33302731e-01 4.08945689e-01 1.69120241e+01\n",
      " 8.09156612e+00 1.41653885e+01 7.08893283e+00 2.17706056e-01\n",
      " 9.62265549e+00 1.88983814e+02 2.97713409e-03 4.82630057e+00\n",
      " 9.71866093e-01 4.99950109e+01 2.53747969e-01 1.55146511e-01\n",
      " 1.25331660e+02 8.67582695e+00 1.02791826e+00 4.65945898e+00\n",
      " 8.38580889e+00 1.71495191e+01 1.50074883e-01 4.03983822e-01\n",
      " 6.48568141e+00 1.00740616e-01 6.79513318e+01 1.58007575e+01\n",
      " 6.85587796e-01 1.40121160e+00 5.01066930e-02 1.84242969e-01\n",
      " 7.00133051e+00 4.58285020e+00 1.87750011e+00 1.23072389e+02\n",
      " 3.64321984e+00 9.71163578e+00 1.60200750e+01 9.29370566e-02\n",
      " 4.03177015e+01 2.45944139e+00 7.77857134e-01 1.46913968e+01\n",
      " 6.33790353e+00 6.77288463e+00 2.26467305e+00 1.37796955e+01\n",
      " 1.80920745e-01 4.44305631e+01 8.51151792e-01 4.72744824e+00\n",
      " 4.49954039e+01 8.51857545e-02 3.12035448e+00 1.18602927e+00\n",
      " 6.81301449e+00 1.02021264e-01 6.18980057e-01]\n"
     ]
    }
   ],
   "source": [
    "# Compute the F-valuues\n",
    "f_values = f_regression(x_train, y_train)[0]\n",
    "\n",
    "print(f_values)\n",
    "\n",
    "# Sort the F-values\n",
    "sorted_idx = np.argsort(f_values)\n",
    "\n",
    "highest_F_idx = sorted_idx[-1]\n",
    "lowest_F_idx = sorted_idx[0]\n",
    "\n",
    "\n"
   ]
  },
  {
   "cell_type": "markdown",
   "metadata": {},
   "source": [
    "## Feature selection"
   ]
  },
  {
   "cell_type": "markdown",
   "metadata": {},
   "source": [
    "**With** feature selection, where 3 of the features which have the highest F are selected. In this selection, denoting X the considered feature and y the continuous target, we select the features which are the most correlated with the target."
   ]
  },
  {
   "cell_type": "code",
   "execution_count": 19,
   "metadata": {},
   "outputs": [
    {
     "name": "stdout",
     "output_type": "stream",
     "text": [
      "The selector selected 60 features, which have the indices [  1   8  11  13  20  23  24  28  35  49  57  59  62  67  68  74  77  86\n",
      "  89  91  92  93 104 109 112 115 116 125 129 133 138 139 140 151 158 172\n",
      " 180 183 188 196 198 199 202 203 204 205 209 214 222 223 230 232 245 249\n",
      " 252 262 271 276 285 288], i.e. ['X2', 'X9', 'X12', 'X14', 'X21', 'X26', 'X27', 'X33', 'X41', 'X58', 'X67', 'X69', 'X72', 'X77', 'X79', 'X85', 'X89', 'X99', 'X102', 'X106', 'X107', 'X108', 'X120', 'X126', 'X129', 'X132', 'X133', 'X142', 'X146', 'X150', 'X155', 'X157', 'X159', 'X171', 'X179', 'X194', 'X203', 'X207', 'X214', 'X223', 'X225', 'X226', 'X230', 'X231', 'X232', 'X233', 'X237', 'X243', 'X252', 'X253', 'X261', 'X264', 'X280', 'X284', 'X288', 'X300', 'X309', 'X316', 'X330', 'X333']\n",
      "RMSE on the test set : 0.21\n",
      "Real risk by cross validation: nan\n"
     ]
    }
   ],
   "source": [
    "# We perform feature selection from the training set\n",
    "selector = SelectKBest(f_regression, k=60)\n",
    "selector.fit(x_train, y_train)\n",
    "\n",
    "# Print out which are the selected features\n",
    "selected_indices = selector.get_support(indices=True)\n",
    "names_selected_indices = [features.columns[i] for i in selected_indices]\n",
    "print(\"The selector selected {} features, which have the indices {}, i.e. {}\".format(len(selected_indices), selected_indices, names_selected_indices))\n",
    "\n",
    "# We reduce the training set \n",
    "X_train_red = selector.transform(x_train)\n",
    "\n",
    "# Train the regression SVM\n",
    "clf = SVR(kernel='rbf')\n",
    "clf.fit(X_train_red, y_train) \n",
    "\n",
    "# Finally, we estimate the accuracy on the test set\n",
    "y_test_pred = clf.predict(selector.transform(x_test))\n",
    "rmse = np.sqrt(((y_test - y_test_pred)**2).mean())\n",
    "print(\"RMSE on the test set : {:.2f}\".format(rmse))\n",
    "\n",
    "# We can also estimate the real risk by cross validating the whole process\n",
    "clf = make_pipeline(SelectKBest(f_regression, k=60),\n",
    "                    RandomForestRegressor(bootstrap=False, \n",
    "                            max_depth=24, \n",
    "                            max_features=100,\n",
    "                            min_samples_split=4, \n",
    "                            n_estimators=80, \n",
    "                            n_jobs=-1))\n",
    "scores = -cross_val_score(clf, features, target,\n",
    "                         scoring='neg_mean_squared_error', cv=2)\n",
    "print(\"Real risk by cross validation: %0.2f\" % (np.sqrt(scores.mean())))\n"
   ]
  },
  {
   "cell_type": "code",
   "execution_count": null,
   "metadata": {},
   "outputs": [],
   "source": []
  }
 ],
 "metadata": {
  "kernelspec": {
   "display_name": "Python 3 (ipykernel)",
   "language": "python",
   "name": "python3"
  },
  "language_info": {
   "codemirror_mode": {
    "name": "ipython",
    "version": 3
   },
   "file_extension": ".py",
   "mimetype": "text/x-python",
   "name": "python",
   "nbconvert_exporter": "python",
   "pygments_lexer": "ipython3",
   "version": "3.8.10"
  }
 },
 "nbformat": 4,
 "nbformat_minor": 4
}

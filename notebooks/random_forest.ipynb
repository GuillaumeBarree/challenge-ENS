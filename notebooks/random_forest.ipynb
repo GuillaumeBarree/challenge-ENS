{
 "cells": [
  {
   "cell_type": "markdown",
   "metadata": {},
   "source": [
    "# Importation des librairies"
   ]
  },
  {
   "cell_type": "code",
   "execution_count": 58,
   "metadata": {},
   "outputs": [],
   "source": [
    "import numpy as np\n",
    "import pandas as pd\n",
    "import matplotlib.pyplot as plt\n",
    "import seaborn as sns\n",
    "import tqdm\n",
    "import os\n",
    "\n",
    "%matplotlib inline\n",
    "path_to_data=\"../data/train\""
   ]
  },
  {
   "cell_type": "markdown",
   "metadata": {},
   "source": [
    "# Chargement des données\n",
    "Utilisation d'une dataframe panda"
   ]
  },
  {
   "cell_type": "code",
   "execution_count": 59,
   "metadata": {},
   "outputs": [
    {
     "name": "stderr",
     "output_type": "stream",
     "text": [
      "100%|██████████| 2/2 [00:00<00:00, 54.55it/s]\n"
     ]
    }
   ],
   "source": [
    "data = {}\n",
    "data_files = os.listdir(path_to_data)\n",
    "\n",
    "for datafile in tqdm.tqdm(data_files):\n",
    "    if \"input\" in datafile:\n",
    "        data[\"input\"] = pd.read_csv(\n",
    "            os.path.join(path_to_data, datafile), delimiter=\",\", decimal=\".\"\n",
    "        )\n",
    "    else:\n",
    "        data[\"target\"] = pd.read_csv(\n",
    "            os.path.join(path_to_data, datafile), delimiter=\",\", decimal=\".\"\n",
    "        )"
   ]
  },
  {
   "cell_type": "markdown",
   "metadata": {},
   "source": []
  },
  {
   "cell_type": "markdown",
   "metadata": {},
   "source": [
    "# Description des données"
   ]
  },
  {
   "cell_type": "code",
   "execution_count": 60,
   "metadata": {},
   "outputs": [
    {
     "data": {
      "text/plain": [
       "1087"
      ]
     },
     "execution_count": 60,
     "metadata": {},
     "output_type": "execute_result"
    }
   ],
   "source": [
    "len(data['input'])"
   ]
  },
  {
   "cell_type": "code",
   "execution_count": 4,
   "metadata": {},
   "outputs": [
    {
     "data": {
      "text/plain": [
       "1087"
      ]
     },
     "execution_count": 4,
     "metadata": {},
     "output_type": "execute_result"
    }
   ],
   "source": [
    "len(data['target'])"
   ]
  },
  {
   "cell_type": "code",
   "execution_count": 5,
   "metadata": {},
   "outputs": [
    {
     "data": {
      "text/html": [
       "<div>\n",
       "<style scoped>\n",
       "    .dataframe tbody tr th:only-of-type {\n",
       "        vertical-align: middle;\n",
       "    }\n",
       "\n",
       "    .dataframe tbody tr th {\n",
       "        vertical-align: top;\n",
       "    }\n",
       "\n",
       "    .dataframe thead th {\n",
       "        text-align: right;\n",
       "    }\n",
       "</style>\n",
       "<table border=\"1\" class=\"dataframe\">\n",
       "  <thead>\n",
       "    <tr style=\"text-align: right;\">\n",
       "      <th></th>\n",
       "      <th>_ID</th>\n",
       "      <th>X1</th>\n",
       "      <th>X2</th>\n",
       "      <th>X3</th>\n",
       "      <th>X4</th>\n",
       "      <th>X5</th>\n",
       "      <th>X6</th>\n",
       "      <th>X7</th>\n",
       "      <th>X8</th>\n",
       "      <th>X9</th>\n",
       "      <th>...</th>\n",
       "      <th>X330</th>\n",
       "      <th>X331</th>\n",
       "      <th>X332</th>\n",
       "      <th>X333</th>\n",
       "      <th>X334</th>\n",
       "      <th>X335</th>\n",
       "      <th>X336</th>\n",
       "      <th>X337</th>\n",
       "      <th>X338</th>\n",
       "      <th>X339</th>\n",
       "    </tr>\n",
       "  </thead>\n",
       "  <tbody>\n",
       "    <tr>\n",
       "      <th>count</th>\n",
       "      <td>1087.000000</td>\n",
       "      <td>1087.000000</td>\n",
       "      <td>1087.000000</td>\n",
       "      <td>1087.000000</td>\n",
       "      <td>1087.000000</td>\n",
       "      <td>1087.000000</td>\n",
       "      <td>1087.000000</td>\n",
       "      <td>1087.000000</td>\n",
       "      <td>1087.000000</td>\n",
       "      <td>1087.000000</td>\n",
       "      <td>...</td>\n",
       "      <td>1087.000000</td>\n",
       "      <td>1087.000000</td>\n",
       "      <td>1087.000000</td>\n",
       "      <td>1087.000000</td>\n",
       "      <td>1087.000000</td>\n",
       "      <td>1087.000000</td>\n",
       "      <td>1087.000000</td>\n",
       "      <td>1087.000000</td>\n",
       "      <td>1087.000000</td>\n",
       "      <td>1087.000000</td>\n",
       "    </tr>\n",
       "    <tr>\n",
       "      <th>mean</th>\n",
       "      <td>544.000000</td>\n",
       "      <td>0.324930</td>\n",
       "      <td>0.598499</td>\n",
       "      <td>0.004600</td>\n",
       "      <td>0.092906</td>\n",
       "      <td>0.096465</td>\n",
       "      <td>0.023919</td>\n",
       "      <td>0.007820</td>\n",
       "      <td>0.132674</td>\n",
       "      <td>0.092115</td>\n",
       "      <td>...</td>\n",
       "      <td>0.050943</td>\n",
       "      <td>0.056610</td>\n",
       "      <td>0.027599</td>\n",
       "      <td>0.134391</td>\n",
       "      <td>0.155980</td>\n",
       "      <td>0.009972</td>\n",
       "      <td>0.004600</td>\n",
       "      <td>0.016559</td>\n",
       "      <td>0.031279</td>\n",
       "      <td>0.002883</td>\n",
       "    </tr>\n",
       "    <tr>\n",
       "      <th>std</th>\n",
       "      <td>313.934176</td>\n",
       "      <td>0.127109</td>\n",
       "      <td>0.112948</td>\n",
       "      <td>0.052357</td>\n",
       "      <td>0.101186</td>\n",
       "      <td>0.113275</td>\n",
       "      <td>0.152867</td>\n",
       "      <td>0.072343</td>\n",
       "      <td>0.088995</td>\n",
       "      <td>0.084020</td>\n",
       "      <td>...</td>\n",
       "      <td>0.098945</td>\n",
       "      <td>0.136687</td>\n",
       "      <td>0.163896</td>\n",
       "      <td>0.176417</td>\n",
       "      <td>0.103498</td>\n",
       "      <td>0.062025</td>\n",
       "      <td>0.067697</td>\n",
       "      <td>0.086610</td>\n",
       "      <td>0.174150</td>\n",
       "      <td>0.041849</td>\n",
       "    </tr>\n",
       "    <tr>\n",
       "      <th>min</th>\n",
       "      <td>1.000000</td>\n",
       "      <td>0.000000</td>\n",
       "      <td>-0.045405</td>\n",
       "      <td>0.000000</td>\n",
       "      <td>0.000000</td>\n",
       "      <td>0.000000</td>\n",
       "      <td>0.000000</td>\n",
       "      <td>0.000000</td>\n",
       "      <td>0.006862</td>\n",
       "      <td>0.000000</td>\n",
       "      <td>...</td>\n",
       "      <td>0.000000</td>\n",
       "      <td>-0.007090</td>\n",
       "      <td>0.000000</td>\n",
       "      <td>-0.001502</td>\n",
       "      <td>0.004104</td>\n",
       "      <td>0.000000</td>\n",
       "      <td>0.000000</td>\n",
       "      <td>0.000000</td>\n",
       "      <td>0.000000</td>\n",
       "      <td>0.000000</td>\n",
       "    </tr>\n",
       "    <tr>\n",
       "      <th>25%</th>\n",
       "      <td>272.500000</td>\n",
       "      <td>0.248555</td>\n",
       "      <td>0.540171</td>\n",
       "      <td>0.000000</td>\n",
       "      <td>0.028135</td>\n",
       "      <td>0.020824</td>\n",
       "      <td>0.000000</td>\n",
       "      <td>0.000000</td>\n",
       "      <td>0.083894</td>\n",
       "      <td>0.046002</td>\n",
       "      <td>...</td>\n",
       "      <td>0.000000</td>\n",
       "      <td>0.000000</td>\n",
       "      <td>0.000000</td>\n",
       "      <td>0.000000</td>\n",
       "      <td>0.095754</td>\n",
       "      <td>0.000000</td>\n",
       "      <td>0.000000</td>\n",
       "      <td>0.000000</td>\n",
       "      <td>0.000000</td>\n",
       "      <td>0.000000</td>\n",
       "    </tr>\n",
       "    <tr>\n",
       "      <th>50%</th>\n",
       "      <td>544.000000</td>\n",
       "      <td>0.303300</td>\n",
       "      <td>0.608965</td>\n",
       "      <td>0.000000</td>\n",
       "      <td>0.066682</td>\n",
       "      <td>0.072494</td>\n",
       "      <td>0.000000</td>\n",
       "      <td>0.000000</td>\n",
       "      <td>0.112968</td>\n",
       "      <td>0.077890</td>\n",
       "      <td>...</td>\n",
       "      <td>0.000000</td>\n",
       "      <td>0.000000</td>\n",
       "      <td>0.000000</td>\n",
       "      <td>0.049144</td>\n",
       "      <td>0.135002</td>\n",
       "      <td>0.000000</td>\n",
       "      <td>0.000000</td>\n",
       "      <td>0.000000</td>\n",
       "      <td>0.000000</td>\n",
       "      <td>0.000000</td>\n",
       "    </tr>\n",
       "    <tr>\n",
       "      <th>75%</th>\n",
       "      <td>815.500000</td>\n",
       "      <td>0.369575</td>\n",
       "      <td>0.668921</td>\n",
       "      <td>0.000000</td>\n",
       "      <td>0.134380</td>\n",
       "      <td>0.131796</td>\n",
       "      <td>0.000000</td>\n",
       "      <td>0.000000</td>\n",
       "      <td>0.149047</td>\n",
       "      <td>0.112930</td>\n",
       "      <td>...</td>\n",
       "      <td>0.125000</td>\n",
       "      <td>0.000000</td>\n",
       "      <td>0.000000</td>\n",
       "      <td>0.227662</td>\n",
       "      <td>0.177760</td>\n",
       "      <td>0.000000</td>\n",
       "      <td>0.000000</td>\n",
       "      <td>0.000000</td>\n",
       "      <td>0.000000</td>\n",
       "      <td>0.000000</td>\n",
       "    </tr>\n",
       "    <tr>\n",
       "      <th>max</th>\n",
       "      <td>1087.000000</td>\n",
       "      <td>1.000000</td>\n",
       "      <td>1.000000</td>\n",
       "      <td>1.000000</td>\n",
       "      <td>1.000000</td>\n",
       "      <td>1.000000</td>\n",
       "      <td>1.000000</td>\n",
       "      <td>1.000000</td>\n",
       "      <td>1.000000</td>\n",
       "      <td>1.000000</td>\n",
       "      <td>...</td>\n",
       "      <td>1.000000</td>\n",
       "      <td>1.000000</td>\n",
       "      <td>1.000000</td>\n",
       "      <td>1.000000</td>\n",
       "      <td>1.000000</td>\n",
       "      <td>1.000000</td>\n",
       "      <td>1.000000</td>\n",
       "      <td>1.000000</td>\n",
       "      <td>1.000000</td>\n",
       "      <td>1.000000</td>\n",
       "    </tr>\n",
       "  </tbody>\n",
       "</table>\n",
       "<p>8 rows × 296 columns</p>\n",
       "</div>"
      ],
      "text/plain": [
       "               _ID           X1           X2           X3           X4  \\\n",
       "count  1087.000000  1087.000000  1087.000000  1087.000000  1087.000000   \n",
       "mean    544.000000     0.324930     0.598499     0.004600     0.092906   \n",
       "std     313.934176     0.127109     0.112948     0.052357     0.101186   \n",
       "min       1.000000     0.000000    -0.045405     0.000000     0.000000   \n",
       "25%     272.500000     0.248555     0.540171     0.000000     0.028135   \n",
       "50%     544.000000     0.303300     0.608965     0.000000     0.066682   \n",
       "75%     815.500000     0.369575     0.668921     0.000000     0.134380   \n",
       "max    1087.000000     1.000000     1.000000     1.000000     1.000000   \n",
       "\n",
       "                X5           X6           X7           X8           X9  ...  \\\n",
       "count  1087.000000  1087.000000  1087.000000  1087.000000  1087.000000  ...   \n",
       "mean      0.096465     0.023919     0.007820     0.132674     0.092115  ...   \n",
       "std       0.113275     0.152867     0.072343     0.088995     0.084020  ...   \n",
       "min       0.000000     0.000000     0.000000     0.006862     0.000000  ...   \n",
       "25%       0.020824     0.000000     0.000000     0.083894     0.046002  ...   \n",
       "50%       0.072494     0.000000     0.000000     0.112968     0.077890  ...   \n",
       "75%       0.131796     0.000000     0.000000     0.149047     0.112930  ...   \n",
       "max       1.000000     1.000000     1.000000     1.000000     1.000000  ...   \n",
       "\n",
       "              X330         X331         X332         X333         X334  \\\n",
       "count  1087.000000  1087.000000  1087.000000  1087.000000  1087.000000   \n",
       "mean      0.050943     0.056610     0.027599     0.134391     0.155980   \n",
       "std       0.098945     0.136687     0.163896     0.176417     0.103498   \n",
       "min       0.000000    -0.007090     0.000000    -0.001502     0.004104   \n",
       "25%       0.000000     0.000000     0.000000     0.000000     0.095754   \n",
       "50%       0.000000     0.000000     0.000000     0.049144     0.135002   \n",
       "75%       0.125000     0.000000     0.000000     0.227662     0.177760   \n",
       "max       1.000000     1.000000     1.000000     1.000000     1.000000   \n",
       "\n",
       "              X335         X336         X337         X338         X339  \n",
       "count  1087.000000  1087.000000  1087.000000  1087.000000  1087.000000  \n",
       "mean      0.009972     0.004600     0.016559     0.031279     0.002883  \n",
       "std       0.062025     0.067697     0.086610     0.174150     0.041849  \n",
       "min       0.000000     0.000000     0.000000     0.000000     0.000000  \n",
       "25%       0.000000     0.000000     0.000000     0.000000     0.000000  \n",
       "50%       0.000000     0.000000     0.000000     0.000000     0.000000  \n",
       "75%       0.000000     0.000000     0.000000     0.000000     0.000000  \n",
       "max       1.000000     1.000000     1.000000     1.000000     1.000000  \n",
       "\n",
       "[8 rows x 296 columns]"
      ]
     },
     "execution_count": 5,
     "metadata": {},
     "output_type": "execute_result"
    }
   ],
   "source": [
    "data['input'].describe()"
   ]
  },
  {
   "cell_type": "markdown",
   "metadata": {},
   "source": [
    "# Separation du dataset en train-set et test-set"
   ]
  },
  {
   "cell_type": "code",
   "execution_count": 61,
   "metadata": {},
   "outputs": [
    {
     "name": "stdout",
     "output_type": "stream",
     "text": [
      "(869, 295) (218, 295) (869,) (218,)\n",
      "(869, 295) (218, 295) (869,) (218,)\n"
     ]
    }
   ],
   "source": [
    "from sklearn.model_selection import train_test_split\n",
    "\n",
    "from sklearn.decomposition import PCA\n",
    "from sklearn.pipeline import Pipeline\n",
    "from sklearn.preprocessing import StandardScaler, MinMaxScaler\n",
    "\n",
    "filter_sample = np.where(data[\"target\"][\"Y\"] == 0)[0]\n",
    "\n",
    "target = data['target'].drop(columns=[\"_ID\"])\n",
    "\n",
    "features = data['input'].drop(columns=[\"_ID\"])\n",
    "\n",
    "# features = features[['X2', 'X9', 'X12', 'X14', 'X21', 'X26', 'X27', 'X33', 'X41', 'X58', 'X67', 'X69', 'X72', 'X77', 'X79', 'X85', 'X89', 'X99', 'X102', 'X106', 'X107', 'X108', 'X120', 'X126', 'X129', 'X132', 'X133', 'X142', 'X146', 'X150', 'X155', 'X157', 'X159', 'X171', 'X179', 'X194', 'X203', 'X207', 'X214', 'X223', 'X225', 'X226', 'X230', 'X231', 'X232', 'X233', 'X237', 'X243', 'X252', 'X253', 'X261', 'X264', 'X280', 'X284', 'X288', 'X300', 'X309', 'X316', 'X330', 'X333']]\n",
    "\n",
    "x_train, x_valid, y_train, y_valid = train_test_split(features,target,test_size=0.20,random_state=0)\n",
    "y_train = y_train.values.ravel()\n",
    "y_valid = y_valid.values.ravel()\n",
    "print(x_train.shape, x_valid.shape, y_train.shape, y_valid.shape)\n",
    "scaler = StandardScaler()\n",
    "pca = PCA(n_components=0.95)\n",
    "\n",
    "# pipeline = Pipeline([(\"pca\", pca), ('scaler', scaler)])\n",
    "# x_train = pipeline.fit_transform(x_train)\n",
    "# x_valid = pipeline.transform(x_valid)\n",
    "print(x_train.shape, x_valid.shape, y_train.shape, y_valid.shape)"
   ]
  },
  {
   "cell_type": "code",
   "execution_count": 4,
   "metadata": {},
   "outputs": [
    {
     "data": {
      "image/png": "[encoded data removed]",
      "text/plain": [
       "<Figure size 432x288 with 1 Axes>"
      ]
     },
     "metadata": {
      "needs_background": "light"
     },
     "output_type": "display_data"
    }
   ],
   "source": [
    "pca = PCA().fit(features)\n",
    "plt.plot(np.cumsum(pca.explained_variance_ratio_))\n",
    "plt.xlabel('number of components')\n",
    "plt.ylabel('cumulative explained variance');"
   ]
  },
  {
   "cell_type": "markdown",
   "metadata": {},
   "source": [
    "# Modele de Régression"
   ]
  },
  {
   "cell_type": "markdown",
   "metadata": {},
   "source": [
    "## Importation des métriques"
   ]
  },
  {
   "cell_type": "code",
   "execution_count": 5,
   "metadata": {},
   "outputs": [],
   "source": [
    "from sklearn.metrics import r2_score, mean_squared_error"
   ]
  },
  {
   "cell_type": "markdown",
   "metadata": {},
   "source": [
    "## Random Forest"
   ]
  },
  {
   "cell_type": "markdown",
   "metadata": {},
   "source": [
    "### Prédiction"
   ]
  },
  {
   "cell_type": "code",
   "execution_count": null,
   "metadata": {},
   "outputs": [],
   "source": [
    "# StandardScalar et PCA(0.95)\n",
    "extra_trees_params = {\n",
    "  \"max_depth\": 20,\n",
    "  \"max_features\": 85,\n",
    "  \"min_samples_split\": 4,\n",
    "  \"n_estimators\": 80\n",
    "}"
   ]
  },
  {
   "cell_type": "code",
   "execution_count": 16,
   "metadata": {},
   "outputs": [
    {
     "data": {
      "text/html": [
       "<div>\n",
       "<style scoped>\n",
       "    .dataframe tbody tr th:only-of-type {\n",
       "        vertical-align: middle;\n",
       "    }\n",
       "\n",
       "    .dataframe tbody tr th {\n",
       "        vertical-align: top;\n",
       "    }\n",
       "\n",
       "    .dataframe thead th {\n",
       "        text-align: right;\n",
       "    }\n",
       "</style>\n",
       "<table border=\"1\" class=\"dataframe\">\n",
       "  <thead>\n",
       "    <tr style=\"text-align: right;\">\n",
       "      <th></th>\n",
       "      <th>X1</th>\n",
       "      <th>X2</th>\n",
       "      <th>X3</th>\n",
       "      <th>X4</th>\n",
       "      <th>X5</th>\n",
       "      <th>X6</th>\n",
       "      <th>X7</th>\n",
       "      <th>X8</th>\n",
       "      <th>X9</th>\n",
       "      <th>X10</th>\n",
       "      <th>...</th>\n",
       "      <th>X330</th>\n",
       "      <th>X331</th>\n",
       "      <th>X332</th>\n",
       "      <th>X333</th>\n",
       "      <th>X334</th>\n",
       "      <th>X335</th>\n",
       "      <th>X336</th>\n",
       "      <th>X337</th>\n",
       "      <th>X338</th>\n",
       "      <th>X339</th>\n",
       "    </tr>\n",
       "  </thead>\n",
       "  <tbody>\n",
       "    <tr>\n",
       "      <th>count</th>\n",
       "      <td>1087.000000</td>\n",
       "      <td>1087.000000</td>\n",
       "      <td>1087.000000</td>\n",
       "      <td>1087.000000</td>\n",
       "      <td>1087.000000</td>\n",
       "      <td>1087.000000</td>\n",
       "      <td>1087.000000</td>\n",
       "      <td>1087.000000</td>\n",
       "      <td>1087.000000</td>\n",
       "      <td>1087.000000</td>\n",
       "      <td>...</td>\n",
       "      <td>1087.000000</td>\n",
       "      <td>1087.000000</td>\n",
       "      <td>1087.000000</td>\n",
       "      <td>1087.000000</td>\n",
       "      <td>1087.000000</td>\n",
       "      <td>1087.000000</td>\n",
       "      <td>1087.000000</td>\n",
       "      <td>1087.000000</td>\n",
       "      <td>1087.000000</td>\n",
       "      <td>1087.000000</td>\n",
       "    </tr>\n",
       "    <tr>\n",
       "      <th>mean</th>\n",
       "      <td>0.324930</td>\n",
       "      <td>0.598499</td>\n",
       "      <td>0.004600</td>\n",
       "      <td>0.092906</td>\n",
       "      <td>0.096465</td>\n",
       "      <td>0.023919</td>\n",
       "      <td>0.007820</td>\n",
       "      <td>0.132674</td>\n",
       "      <td>0.092115</td>\n",
       "      <td>0.040216</td>\n",
       "      <td>...</td>\n",
       "      <td>0.050943</td>\n",
       "      <td>0.056610</td>\n",
       "      <td>0.027599</td>\n",
       "      <td>0.134391</td>\n",
       "      <td>0.155980</td>\n",
       "      <td>0.009972</td>\n",
       "      <td>0.004600</td>\n",
       "      <td>0.016559</td>\n",
       "      <td>0.031279</td>\n",
       "      <td>0.002883</td>\n",
       "    </tr>\n",
       "    <tr>\n",
       "      <th>std</th>\n",
       "      <td>0.127109</td>\n",
       "      <td>0.112948</td>\n",
       "      <td>0.052357</td>\n",
       "      <td>0.101186</td>\n",
       "      <td>0.113275</td>\n",
       "      <td>0.152867</td>\n",
       "      <td>0.072343</td>\n",
       "      <td>0.088995</td>\n",
       "      <td>0.084020</td>\n",
       "      <td>0.075777</td>\n",
       "      <td>...</td>\n",
       "      <td>0.098945</td>\n",
       "      <td>0.136687</td>\n",
       "      <td>0.163896</td>\n",
       "      <td>0.176417</td>\n",
       "      <td>0.103498</td>\n",
       "      <td>0.062025</td>\n",
       "      <td>0.067697</td>\n",
       "      <td>0.086610</td>\n",
       "      <td>0.174150</td>\n",
       "      <td>0.041849</td>\n",
       "    </tr>\n",
       "    <tr>\n",
       "      <th>min</th>\n",
       "      <td>0.000000</td>\n",
       "      <td>-0.045405</td>\n",
       "      <td>0.000000</td>\n",
       "      <td>0.000000</td>\n",
       "      <td>0.000000</td>\n",
       "      <td>0.000000</td>\n",
       "      <td>0.000000</td>\n",
       "      <td>0.006862</td>\n",
       "      <td>0.000000</td>\n",
       "      <td>0.000000</td>\n",
       "      <td>...</td>\n",
       "      <td>0.000000</td>\n",
       "      <td>-0.007090</td>\n",
       "      <td>0.000000</td>\n",
       "      <td>-0.001502</td>\n",
       "      <td>0.004104</td>\n",
       "      <td>0.000000</td>\n",
       "      <td>0.000000</td>\n",
       "      <td>0.000000</td>\n",
       "      <td>0.000000</td>\n",
       "      <td>0.000000</td>\n",
       "    </tr>\n",
       "    <tr>\n",
       "      <th>25%</th>\n",
       "      <td>0.248555</td>\n",
       "      <td>0.540171</td>\n",
       "      <td>0.000000</td>\n",
       "      <td>0.028135</td>\n",
       "      <td>0.020824</td>\n",
       "      <td>0.000000</td>\n",
       "      <td>0.000000</td>\n",
       "      <td>0.083894</td>\n",
       "      <td>0.046002</td>\n",
       "      <td>0.000000</td>\n",
       "      <td>...</td>\n",
       "      <td>0.000000</td>\n",
       "      <td>0.000000</td>\n",
       "      <td>0.000000</td>\n",
       "      <td>0.000000</td>\n",
       "      <td>0.095754</td>\n",
       "      <td>0.000000</td>\n",
       "      <td>0.000000</td>\n",
       "      <td>0.000000</td>\n",
       "      <td>0.000000</td>\n",
       "      <td>0.000000</td>\n",
       "    </tr>\n",
       "    <tr>\n",
       "      <th>50%</th>\n",
       "      <td>0.303300</td>\n",
       "      <td>0.608965</td>\n",
       "      <td>0.000000</td>\n",
       "      <td>0.066682</td>\n",
       "      <td>0.072494</td>\n",
       "      <td>0.000000</td>\n",
       "      <td>0.000000</td>\n",
       "      <td>0.112968</td>\n",
       "      <td>0.077890</td>\n",
       "      <td>0.000000</td>\n",
       "      <td>...</td>\n",
       "      <td>0.000000</td>\n",
       "      <td>0.000000</td>\n",
       "      <td>0.000000</td>\n",
       "      <td>0.049144</td>\n",
       "      <td>0.135002</td>\n",
       "      <td>0.000000</td>\n",
       "      <td>0.000000</td>\n",
       "      <td>0.000000</td>\n",
       "      <td>0.000000</td>\n",
       "      <td>0.000000</td>\n",
       "    </tr>\n",
       "    <tr>\n",
       "      <th>75%</th>\n",
       "      <td>0.369575</td>\n",
       "      <td>0.668921</td>\n",
       "      <td>0.000000</td>\n",
       "      <td>0.134380</td>\n",
       "      <td>0.131796</td>\n",
       "      <td>0.000000</td>\n",
       "      <td>0.000000</td>\n",
       "      <td>0.149047</td>\n",
       "      <td>0.112930</td>\n",
       "      <td>0.038134</td>\n",
       "      <td>...</td>\n",
       "      <td>0.125000</td>\n",
       "      <td>0.000000</td>\n",
       "      <td>0.000000</td>\n",
       "      <td>0.227662</td>\n",
       "      <td>0.177760</td>\n",
       "      <td>0.000000</td>\n",
       "      <td>0.000000</td>\n",
       "      <td>0.000000</td>\n",
       "      <td>0.000000</td>\n",
       "      <td>0.000000</td>\n",
       "    </tr>\n",
       "    <tr>\n",
       "      <th>max</th>\n",
       "      <td>1.000000</td>\n",
       "      <td>1.000000</td>\n",
       "      <td>1.000000</td>\n",
       "      <td>1.000000</td>\n",
       "      <td>1.000000</td>\n",
       "      <td>1.000000</td>\n",
       "      <td>1.000000</td>\n",
       "      <td>1.000000</td>\n",
       "      <td>1.000000</td>\n",
       "      <td>1.000000</td>\n",
       "      <td>...</td>\n",
       "      <td>1.000000</td>\n",
       "      <td>1.000000</td>\n",
       "      <td>1.000000</td>\n",
       "      <td>1.000000</td>\n",
       "      <td>1.000000</td>\n",
       "      <td>1.000000</td>\n",
       "      <td>1.000000</td>\n",
       "      <td>1.000000</td>\n",
       "      <td>1.000000</td>\n",
       "      <td>1.000000</td>\n",
       "    </tr>\n",
       "  </tbody>\n",
       "</table>\n",
       "<p>8 rows × 295 columns</p>\n",
       "</div>"
      ],
      "text/plain": [
       "                X1           X2           X3           X4           X5  \\\n",
       "count  1087.000000  1087.000000  1087.000000  1087.000000  1087.000000   \n",
       "mean      0.324930     0.598499     0.004600     0.092906     0.096465   \n",
       "std       0.127109     0.112948     0.052357     0.101186     0.113275   \n",
       "min       0.000000    -0.045405     0.000000     0.000000     0.000000   \n",
       "25%       0.248555     0.540171     0.000000     0.028135     0.020824   \n",
       "50%       0.303300     0.608965     0.000000     0.066682     0.072494   \n",
       "75%       0.369575     0.668921     0.000000     0.134380     0.131796   \n",
       "max       1.000000     1.000000     1.000000     1.000000     1.000000   \n",
       "\n",
       "                X6           X7           X8           X9          X10  ...  \\\n",
       "count  1087.000000  1087.000000  1087.000000  1087.000000  1087.000000  ...   \n",
       "mean      0.023919     0.007820     0.132674     0.092115     0.040216  ...   \n",
       "std       0.152867     0.072343     0.088995     0.084020     0.075777  ...   \n",
       "min       0.000000     0.000000     0.006862     0.000000     0.000000  ...   \n",
       "25%       0.000000     0.000000     0.083894     0.046002     0.000000  ...   \n",
       "50%       0.000000     0.000000     0.112968     0.077890     0.000000  ...   \n",
       "75%       0.000000     0.000000     0.149047     0.112930     0.038134  ...   \n",
       "max       1.000000     1.000000     1.000000     1.000000     1.000000  ...   \n",
       "\n",
       "              X330         X331         X332         X333         X334  \\\n",
       "count  1087.000000  1087.000000  1087.000000  1087.000000  1087.000000   \n",
       "mean      0.050943     0.056610     0.027599     0.134391     0.155980   \n",
       "std       0.098945     0.136687     0.163896     0.176417     0.103498   \n",
       "min       0.000000    -0.007090     0.000000    -0.001502     0.004104   \n",
       "25%       0.000000     0.000000     0.000000     0.000000     0.095754   \n",
       "50%       0.000000     0.000000     0.000000     0.049144     0.135002   \n",
       "75%       0.125000     0.000000     0.000000     0.227662     0.177760   \n",
       "max       1.000000     1.000000     1.000000     1.000000     1.000000   \n",
       "\n",
       "              X335         X336         X337         X338         X339  \n",
       "count  1087.000000  1087.000000  1087.000000  1087.000000  1087.000000  \n",
       "mean      0.009972     0.004600     0.016559     0.031279     0.002883  \n",
       "std       0.062025     0.067697     0.086610     0.174150     0.041849  \n",
       "min       0.000000     0.000000     0.000000     0.000000     0.000000  \n",
       "25%       0.000000     0.000000     0.000000     0.000000     0.000000  \n",
       "50%       0.000000     0.000000     0.000000     0.000000     0.000000  \n",
       "75%       0.000000     0.000000     0.000000     0.000000     0.000000  \n",
       "max       1.000000     1.000000     1.000000     1.000000     1.000000  \n",
       "\n",
       "[8 rows x 295 columns]"
      ]
     },
     "execution_count": 16,
     "metadata": {},
     "output_type": "execute_result"
    }
   ],
   "source": [
    "features.describe()"
   ]
  },
  {
   "cell_type": "code",
   "execution_count": null,
   "metadata": {},
   "outputs": [],
   "source": [
    "features[\"X6\"].value"
   ]
  },
  {
   "cell_type": "code",
   "execution_count": 27,
   "metadata": {},
   "outputs": [
    {
     "data": {
      "text/plain": [
       "48"
      ]
     },
     "execution_count": 27,
     "metadata": {},
     "output_type": "execute_result"
    }
   ],
   "source": [
    "S = 0\n",
    "for feat in features.columns:\n",
    "    S += 1 if len(features[feat].value_counts()) <= 2 else 0\n",
    "S"
   ]
  },
  {
   "cell_type": "code",
   "execution_count": 65,
   "metadata": {},
   "outputs": [
    {
     "name": "stdout",
     "output_type": "stream",
     "text": [
      "0.7961037091998431\n",
      "MSE :  0.041768063326981984\n",
      "MSE :  0.020362096218603135\n"
     ]
    }
   ],
   "source": [
    "from sklearn.ensemble import GradientBoostingRegressor\n",
    "from sklearn.model_selection import GridSearchCV\n",
    "\n",
    "param_grid = {'learning_rate': [0.01,0.05,0.1,1,0.5], #so called `eta` value\n",
    "              'min_samples_leaf': [4,5,6],\n",
    "              'subsample': [0.6,0.7,0.8],\n",
    "              \"min_samples_split\" : np.arange(4, 8, 2),\n",
    "              'max_depth': np.arange(18, 28, 4),\n",
    "              'max_features': np.arange(30, 100, 10),\n",
    "              'n_estimators': np.arange(70, 120, 10),\n",
    "\n",
    "              }\n",
    "\n",
    "gbr = GradientBoostingRegressor(loss='squared_error', criterion='squared_error', n_estimators=100, max_features=40)\n",
    "\n",
    "gbr.fit(x_train, y_train)\n",
    "print(gbr.score(x_train, y_train))\n",
    "\n",
    "y_pred_gbr = gbr.predict(x_valid)\n",
    "\n",
    "print(\"MSE : \", mean_squared_error(y_valid, y_pred_gbr))\n",
    "print(\"MSE : \", mean_squared_error(y_train, gbr.predict(x_train)))\n"
   ]
  },
  {
   "cell_type": "code",
   "execution_count": null,
   "metadata": {},
   "outputs": [],
   "source": [
    "\n",
    "\n",
    "rfr = RandomForestRegressor(bootstrap=False, n_jobs=-1)\n",
    "\n",
    "\n",
    "param_grid = { \n",
    "            \"min_samples_split\" : np.arange(4, 8, 2),\n",
    "            'max_depth': np.arange(18, 28, 1),\n",
    "            'max_features': np.arange(50, 150, 5),\n",
    "            'n_estimators': np.arange(70, 120, 5),\n",
    "            }\n",
    "\n"
   ]
  },
  {
   "cell_type": "code",
   "execution_count": 55,
   "metadata": {},
   "outputs": [
    {
     "name": "stdout",
     "output_type": "stream",
     "text": [
      "0.8449192900987317\n",
      "MSE :  0.045595937823241006\n",
      "MSE :  0.015487129875029952\n"
     ]
    }
   ],
   "source": [
    "from sklearn.svm import NuSVR\n",
    "\n",
    "\n",
    "nusvr = NuSVR(C=0.7, gamma=0.009, kernel='rbf', nu=0.6)\n",
    "\n",
    "nusvr.fit(x_train, y_train)\n",
    "print(nusvr.score(x_train, y_train))\n",
    "\n",
    "y_pred_svr = nusvr.predict(x_valid)\n",
    "\n",
    "print(\"MSE : \", mean_squared_error(y_valid, y_pred_svr))\n",
    "print(\"MSE : \", mean_squared_error(y_train, nusvr.predict(x_train)))"
   ]
  },
  {
   "cell_type": "code",
   "execution_count": 22,
   "metadata": {},
   "outputs": [
    {
     "name": "stdout",
     "output_type": "stream",
     "text": [
      "0.9963960945156827\n",
      "MSE :  0.0428829390822228\n",
      "MSE :  0.0003599038999014685\n"
     ]
    }
   ],
   "source": [
    "from sklearn.ensemble import ExtraTreesRegressor\n",
    "\n",
    "\n",
    "etr = ExtraTreesRegressor(bootstrap=False, \n",
    "                            max_depth=20, \n",
    "                            max_features=72,\n",
    "                            min_samples_split=4, \n",
    "                            n_estimators=80, \n",
    "                            n_jobs=-1)\n",
    "\n",
    "etr.fit(x_train, y_train)\n",
    "print(etr.score(x_train, y_train))\n",
    "\n",
    "y_pred_etr = etr.predict(x_valid)\n",
    "\n",
    "print(\"MSE : \", mean_squared_error(y_valid, y_pred_etr))\n",
    "print(\"MSE : \", mean_squared_error(y_train, etr.predict(x_train)))"
   ]
  },
  {
   "cell_type": "code",
   "execution_count": 23,
   "metadata": {},
   "outputs": [
    {
     "name": "stdout",
     "output_type": "stream",
     "text": [
      "MSE :  0.04878181001977928\n",
      "MSE :  0.00015105239512055256\n"
     ]
    }
   ],
   "source": [
    "from sklearn.ensemble import RandomForestRegressor\n",
    "\n",
    "\n",
    "rfr = RandomForestRegressor(bootstrap=False, \n",
    "                            max_depth=22, \n",
    "                            max_features=50,\n",
    "                            min_samples_split=4, \n",
    "                            n_estimators=80, \n",
    "                            n_jobs=-1)\n",
    "\n",
    "rfr.fit(x_train, y_train)\n",
    "\n",
    "y_pred_rfr = rfr.predict(x_valid)\n",
    "\n",
    "print(\"MSE : \", mean_squared_error(y_valid, y_pred_rfr))\n",
    "print(\"MSE : \", mean_squared_error(y_train, rfr.predict(x_train)))\n"
   ]
  },
  {
   "cell_type": "code",
   "execution_count": null,
   "metadata": {},
   "outputs": [],
   "source": [
    "importances = rfr.feature_importances_\n",
    "indices = np.argsort(importances)[::-1]\n",
    "feature_names = features.columns\n",
    "# Print the feature ranking\n",
    "print(\"\\n Feature ranking:\")\n",
    "\n",
    "for f in range(x_train.shape[1]):\n",
    "    print(f+1, feature_names[indices[f]],'\\t', importances[indices[f]])\n",
    "\n",
    "# Plot the feature importances of the forest\n",
    "plt.figure(figsize=(15,8))\n",
    "plt.title(\"Feature importances\")\n",
    "plt.bar(range(x_train.shape[1]), importances[indices],\n",
    "       color=\"r\")\n",
    "plt.xticks(range(x_train.shape[1]), [feature_names[i] for i in indices], rotation='vertical')\n",
    "plt.xlim([-1, 50])\n",
    "plt.show()"
   ]
  },
  {
   "cell_type": "code",
   "execution_count": 12,
   "metadata": {},
   "outputs": [
    {
     "name": "stdout",
     "output_type": "stream",
     "text": [
      "mse value for k=  1 is: 0.09068380656034798\n",
      "mse value for k=  2 is: 0.06648351307351705\n",
      "mse value for k=  3 is: 0.06043437622023697\n",
      "mse value for k=  4 is: 0.06408998568484414\n",
      "mse value for k=  5 is: 0.06084242307144231\n",
      "mse value for k=  6 is: 0.06212715627574065\n",
      "mse value for k=  7 is: 0.06131878039954564\n",
      "mse value for k=  8 is: 0.06097525829650922\n",
      "mse value for k=  9 is: 0.060235380313612946\n",
      "mse value for k=  10 is: 0.06187903574244834\n",
      "mse value for k=  11 is: 0.06265166039069099\n",
      "mse value for k=  12 is: 0.06194918882658074\n",
      "mse value for k=  13 is: 0.06351187995615121\n",
      "mse value for k=  14 is: 0.06471985714143758\n",
      "mse value for k=  15 is: 0.0644320539645123\n",
      "mse value for k=  16 is: 0.06503699104081845\n",
      "mse value for k=  17 is: 0.06489876452106698\n",
      "mse value for k=  18 is: 0.06588483021720938\n",
      "mse value for k=  19 is: 0.06670844224150885\n",
      "mse value for k=  20 is: 0.06619879320450182\n"
     ]
    }
   ],
   "source": [
    "from sklearn import neighbors\n",
    "K = 0\n",
    "rmse_val = [] #to store rmse values for different k\n",
    "for K in range(20):\n",
    "    K = K+1\n",
    "    model = neighbors.KNeighborsRegressor(n_neighbors = K)\n",
    "\n",
    "    model.fit(x_train, y_train)  #fit the model\n",
    "    y_pred_rfr = model.predict(x_valid) #make prediction on test set\n",
    "    error = mean_squared_error(y_valid, y_pred_rfr)\n",
    "    rmse_val.append(error) #store rmse values\n",
    "    print('mse value for k= ' , K , 'is:', error)"
   ]
  },
  {
   "cell_type": "code",
   "execution_count": 24,
   "metadata": {},
   "outputs": [
    {
     "name": "stdout",
     "output_type": "stream",
     "text": [
      "MSE valid:  0.060235380313612946\n",
      "MSE train:  0.05041241190018628\n"
     ]
    }
   ],
   "source": [
    "model = neighbors.KNeighborsRegressor(n_neighbors = 9)\n",
    "\n",
    "model.fit(x_train, y_train)\n",
    "# print(model.score(x_train, y_train))\n",
    "\n",
    "y_pred_knn = model.predict(x_valid)\n",
    "\n",
    "print(\"MSE valid: \", mean_squared_error(y_valid, y_pred_knn))\n",
    "\n",
    "print(\"MSE train: \", mean_squared_error(y_train, model.predict(x_train)))"
   ]
  },
  {
   "cell_type": "code",
   "execution_count": 27,
   "metadata": {},
   "outputs": [
    {
     "data": {
      "text/plain": [
       "array([-0.11665752, -0.03858076,  0.02908972,  0.54430597,  0.25648458,\n",
       "        0.20246105,  0.06415844, -0.2543619 ,  0.32491364,  0.59665691,\n",
       "        0.24849742,  0.0042993 ,  0.12437575,  0.2763904 ,  0.00186252,\n",
       "        0.20127794, -0.08851736, -0.21035245,  0.39740966,  0.00224382,\n",
       "       -0.30725486,  0.3444603 ,  0.3591109 , -0.26805749, -0.20678012,\n",
       "        0.06327012,  0.26226724, -0.11192408, -0.09436844, -0.04042074,\n",
       "       -0.37781041,  0.20401068, -0.14957117,  0.54955939, -0.49630639,\n",
       "        0.05829324, -0.05059517, -0.07155629, -0.22502785, -0.11679184,\n",
       "       -0.08895093,  0.00722892, -0.32249388, -0.33778471,  0.15854423,\n",
       "        0.1595676 ,  0.29972705, -0.06930382, -0.19422007,  0.14866907,\n",
       "        0.02211013, -0.37320723,  0.086353  ,  0.31560849, -0.13044946,\n",
       "       -0.05524695, -0.14354534, -0.32820308, -0.11729596,  0.19277846,\n",
       "       -0.40274867, -0.16338337,  0.16094081, -0.22878542,  0.20265296,\n",
       "       -0.33836901, -0.13648221,  0.02901133,  0.03083263, -0.08615342,\n",
       "       -0.03893209, -0.16532689, -0.31597374,  0.37854502, -0.07369497,\n",
       "       -0.36452691,  0.05164184,  0.09759221, -0.10187636,  0.06578263,\n",
       "       -0.20821961, -0.11587247,  0.30655363,  0.22786336, -0.24495238,\n",
       "        0.10108653,  0.28761072, -0.03692623,  0.19242808,  0.51580064,\n",
       "       -0.13449857, -0.24453019, -0.02971915,  0.33094827, -0.09247672,\n",
       "       -0.18426259,  0.39203708, -0.27082569, -0.38370988,  0.35909079,\n",
       "        0.35981003,  0.29220584, -0.09750485,  0.45929963,  0.13054265,\n",
       "       -0.20242339, -0.26699772,  0.14274881, -0.03501298, -0.03830972,\n",
       "       -0.13302634, -0.30072762,  0.17525553, -0.43712088, -0.08286038,\n",
       "       -0.08713776,  0.297325  ,  0.07933321,  0.21370633,  0.39523216,\n",
       "        0.1258305 ,  0.24205476, -0.17074694, -0.25101064, -0.31346699,\n",
       "       -0.17409023,  0.16235471,  0.07744684, -0.3593884 , -0.16548773,\n",
       "       -0.19830574, -0.01667008,  0.1371267 , -0.3072583 , -0.26340934,\n",
       "        0.05331518,  0.45874545, -0.09582066, -0.44832228, -0.1417139 ,\n",
       "       -0.29623189,  0.07952036, -0.23062207, -0.30148988,  0.16148282,\n",
       "        0.4011755 ,  0.16794582,  0.16990512, -0.11003363,  0.22163652,\n",
       "        0.1084046 ,  0.23442864,  0.00580251,  0.02871291,  0.13617499,\n",
       "        0.50600658, -0.32488082,  0.1472983 ,  0.69338872,  0.21632247,\n",
       "       -0.20140511,  0.45642882,  0.27075942,  0.51763172,  0.0507224 ,\n",
       "       -0.17907197, -0.20655106,  0.21970517,  0.27101398,  0.38135265,\n",
       "       -0.31773915,  0.42043258,  0.33835593, -0.35027761, -0.11014789,\n",
       "       -0.27502587, -0.03724686, -0.20649767, -0.11863864, -0.26437816,\n",
       "       -0.11266101, -0.09548721,  0.1094246 ,  0.22171915,  0.25887816,\n",
       "       -0.0017634 ,  0.17919834, -0.08936536,  0.05923546, -0.01174246,\n",
       "        0.03830483,  0.31076998, -0.21137449,  0.19064095,  0.32248264,\n",
       "        0.16177719, -0.42742078, -0.44514352, -0.1390908 ,  0.13807468,\n",
       "        0.20657776,  0.36580821, -0.18312127, -0.37183244, -0.1499724 ,\n",
       "       -0.02905835, -0.01230785,  0.30750234, -0.04469886, -0.29704245,\n",
       "        0.19170399,  0.11569535,  0.0212098 ,  0.33101179, -0.14068229,\n",
       "        0.44229977, -0.11635388,  0.12716472])"
      ]
     },
     "execution_count": 27,
     "metadata": {},
     "output_type": "execute_result"
    }
   ],
   "source": []
  },
  {
   "cell_type": "code",
   "execution_count": 29,
   "metadata": {},
   "outputs": [
    {
     "data": {
      "text/plain": [
       "(218,)"
      ]
     },
     "execution_count": 29,
     "metadata": {},
     "output_type": "execute_result"
    }
   ],
   "source": [
    "np.mean(np.array([y_pred_svr, y_pred_etr, y_pred_knn, y_pred_rfr]), axis=0).shape"
   ]
  },
  {
   "cell_type": "code",
   "execution_count": 20,
   "metadata": {},
   "outputs": [
    {
     "data": {
      "image/png": "[encoded data removed]",
      "text/plain": [
       "<Figure size 432x288 with 1 Axes>"
      ]
     },
     "metadata": {
      "needs_background": "light"
     },
     "output_type": "display_data"
    }
   ],
   "source": [
    "plt.plot(y_valid, y_pred_rfr, 'o')\n",
    "plt.xlabel(\"Données réelles\")\n",
    "plt.ylabel(\"Données prédites\")\n",
    "plt.show()"
   ]
  },
  {
   "cell_type": "code",
   "execution_count": 19,
   "metadata": {},
   "outputs": [
    {
     "name": "stderr",
     "output_type": "stream",
     "text": [
      "100%|██████████| 1/1 [00:00<00:00, 23.89it/s]\n"
     ]
    },
    {
     "data": {
      "text/html": [
       "<div>\n",
       "<style scoped>\n",
       "    .dataframe tbody tr th:only-of-type {\n",
       "        vertical-align: middle;\n",
       "    }\n",
       "\n",
       "    .dataframe tbody tr th {\n",
       "        vertical-align: top;\n",
       "    }\n",
       "\n",
       "    .dataframe thead th {\n",
       "        text-align: right;\n",
       "    }\n",
       "</style>\n",
       "<table border=\"1\" class=\"dataframe\">\n",
       "  <thead>\n",
       "    <tr style=\"text-align: right;\">\n",
       "      <th></th>\n",
       "      <th>_ID</th>\n",
       "      <th>X1</th>\n",
       "      <th>X2</th>\n",
       "      <th>X3</th>\n",
       "      <th>X4</th>\n",
       "      <th>X5</th>\n",
       "      <th>X6</th>\n",
       "      <th>X7</th>\n",
       "      <th>X8</th>\n",
       "      <th>X9</th>\n",
       "      <th>...</th>\n",
       "      <th>X330</th>\n",
       "      <th>X331</th>\n",
       "      <th>X332</th>\n",
       "      <th>X333</th>\n",
       "      <th>X334</th>\n",
       "      <th>X335</th>\n",
       "      <th>X336</th>\n",
       "      <th>X337</th>\n",
       "      <th>X338</th>\n",
       "      <th>X339</th>\n",
       "    </tr>\n",
       "  </thead>\n",
       "  <tbody>\n",
       "    <tr>\n",
       "      <th>0</th>\n",
       "      <td>1088</td>\n",
       "      <td>0.421261</td>\n",
       "      <td>0.546021</td>\n",
       "      <td>0</td>\n",
       "      <td>0.029268</td>\n",
       "      <td>0.000000</td>\n",
       "      <td>0</td>\n",
       "      <td>0</td>\n",
       "      <td>0.062175</td>\n",
       "      <td>0.059580</td>\n",
       "      <td>...</td>\n",
       "      <td>0.0</td>\n",
       "      <td>0.224574</td>\n",
       "      <td>0</td>\n",
       "      <td>0.000000</td>\n",
       "      <td>0.064333</td>\n",
       "      <td>0</td>\n",
       "      <td>0</td>\n",
       "      <td>0.0</td>\n",
       "      <td>0</td>\n",
       "      <td>0.0</td>\n",
       "    </tr>\n",
       "    <tr>\n",
       "      <th>1</th>\n",
       "      <td>1089</td>\n",
       "      <td>0.336232</td>\n",
       "      <td>0.727931</td>\n",
       "      <td>0</td>\n",
       "      <td>0.134967</td>\n",
       "      <td>0.194293</td>\n",
       "      <td>0</td>\n",
       "      <td>0</td>\n",
       "      <td>0.183858</td>\n",
       "      <td>0.099622</td>\n",
       "      <td>...</td>\n",
       "      <td>0.0</td>\n",
       "      <td>0.000000</td>\n",
       "      <td>0</td>\n",
       "      <td>0.170102</td>\n",
       "      <td>0.195474</td>\n",
       "      <td>0</td>\n",
       "      <td>0</td>\n",
       "      <td>0.0</td>\n",
       "      <td>0</td>\n",
       "      <td>0.0</td>\n",
       "    </tr>\n",
       "    <tr>\n",
       "      <th>2</th>\n",
       "      <td>1090</td>\n",
       "      <td>0.335788</td>\n",
       "      <td>0.567076</td>\n",
       "      <td>0</td>\n",
       "      <td>0.108601</td>\n",
       "      <td>0.040054</td>\n",
       "      <td>0</td>\n",
       "      <td>0</td>\n",
       "      <td>0.089720</td>\n",
       "      <td>0.078247</td>\n",
       "      <td>...</td>\n",
       "      <td>0.0</td>\n",
       "      <td>0.000000</td>\n",
       "      <td>0</td>\n",
       "      <td>0.177861</td>\n",
       "      <td>0.107409</td>\n",
       "      <td>0</td>\n",
       "      <td>0</td>\n",
       "      <td>0.0</td>\n",
       "      <td>0</td>\n",
       "      <td>0.0</td>\n",
       "    </tr>\n",
       "    <tr>\n",
       "      <th>3</th>\n",
       "      <td>1091</td>\n",
       "      <td>0.328875</td>\n",
       "      <td>0.580493</td>\n",
       "      <td>0</td>\n",
       "      <td>0.147206</td>\n",
       "      <td>0.046594</td>\n",
       "      <td>0</td>\n",
       "      <td>0</td>\n",
       "      <td>0.103053</td>\n",
       "      <td>0.063454</td>\n",
       "      <td>...</td>\n",
       "      <td>0.0</td>\n",
       "      <td>0.000000</td>\n",
       "      <td>0</td>\n",
       "      <td>0.000000</td>\n",
       "      <td>0.118341</td>\n",
       "      <td>0</td>\n",
       "      <td>0</td>\n",
       "      <td>0.0</td>\n",
       "      <td>0</td>\n",
       "      <td>0.0</td>\n",
       "    </tr>\n",
       "    <tr>\n",
       "      <th>4</th>\n",
       "      <td>1092</td>\n",
       "      <td>0.248126</td>\n",
       "      <td>0.658921</td>\n",
       "      <td>0</td>\n",
       "      <td>0.000000</td>\n",
       "      <td>0.000000</td>\n",
       "      <td>0</td>\n",
       "      <td>0</td>\n",
       "      <td>0.098379</td>\n",
       "      <td>0.002061</td>\n",
       "      <td>...</td>\n",
       "      <td>0.0</td>\n",
       "      <td>0.000000</td>\n",
       "      <td>0</td>\n",
       "      <td>0.261934</td>\n",
       "      <td>0.159203</td>\n",
       "      <td>0</td>\n",
       "      <td>0</td>\n",
       "      <td>0.0</td>\n",
       "      <td>0</td>\n",
       "      <td>0.0</td>\n",
       "    </tr>\n",
       "  </tbody>\n",
       "</table>\n",
       "<p>5 rows × 296 columns</p>\n",
       "</div>"
      ],
      "text/plain": [
       "    _ID        X1        X2  X3        X4        X5  X6  X7        X8  \\\n",
       "0  1088  0.421261  0.546021   0  0.029268  0.000000   0   0  0.062175   \n",
       "1  1089  0.336232  0.727931   0  0.134967  0.194293   0   0  0.183858   \n",
       "2  1090  0.335788  0.567076   0  0.108601  0.040054   0   0  0.089720   \n",
       "3  1091  0.328875  0.580493   0  0.147206  0.046594   0   0  0.103053   \n",
       "4  1092  0.248126  0.658921   0  0.000000  0.000000   0   0  0.098379   \n",
       "\n",
       "         X9  ...  X330      X331  X332      X333      X334  X335  X336  X337  \\\n",
       "0  0.059580  ...   0.0  0.224574     0  0.000000  0.064333     0     0   0.0   \n",
       "1  0.099622  ...   0.0  0.000000     0  0.170102  0.195474     0     0   0.0   \n",
       "2  0.078247  ...   0.0  0.000000     0  0.177861  0.107409     0     0   0.0   \n",
       "3  0.063454  ...   0.0  0.000000     0  0.000000  0.118341     0     0   0.0   \n",
       "4  0.002061  ...   0.0  0.000000     0  0.261934  0.159203     0     0   0.0   \n",
       "\n",
       "   X338  X339  \n",
       "0     0   0.0  \n",
       "1     0   0.0  \n",
       "2     0   0.0  \n",
       "3     0   0.0  \n",
       "4     0   0.0  \n",
       "\n",
       "[5 rows x 296 columns]"
      ]
     },
     "execution_count": 19,
     "metadata": {},
     "output_type": "execute_result"
    }
   ],
   "source": [
    "data_files = os.listdir('../data/test')\n",
    "\n",
    "for datafile in tqdm.tqdm(data_files):\n",
    "    if \"input\" in datafile:\n",
    "        test_data = pd.read_csv(\n",
    "            os.path.join('../data/test', datafile), delimiter=\",\", decimal=\".\"\n",
    "        )\n",
    "\n",
    "test_data.head()"
   ]
  },
  {
   "cell_type": "code",
   "execution_count": 20,
   "metadata": {},
   "outputs": [
    {
     "data": {
      "text/plain": [
       "0    271\n",
       "1      1\n",
       "Name: X6, dtype: int64"
      ]
     },
     "execution_count": 20,
     "metadata": {},
     "output_type": "execute_result"
    }
   ],
   "source": [
    "test_data.X6.value_counts()"
   ]
  },
  {
   "cell_type": "code",
   "execution_count": 11,
   "metadata": {},
   "outputs": [],
   "source": [
    "x_test = test_data.drop(columns=[\"_ID\"])\n",
    "x_test = pipeline.transform(x_test)"
   ]
  },
  {
   "cell_type": "code",
   "execution_count": 12,
   "metadata": {},
   "outputs": [
    {
     "data": {
      "text/plain": [
       "(272,)"
      ]
     },
     "execution_count": 12,
     "metadata": {},
     "output_type": "execute_result"
    }
   ],
   "source": [
    "y_pred_test = rfr.predict(x_test)\n",
    "y_pred_test.shape"
   ]
  },
  {
   "cell_type": "code",
   "execution_count": 13,
   "metadata": {},
   "outputs": [
    {
     "data": {
      "text/plain": [
       "(272,)"
      ]
     },
     "execution_count": 13,
     "metadata": {},
     "output_type": "execute_result"
    }
   ],
   "source": [
    "test_data['_ID'].to_numpy().shape\n"
   ]
  },
  {
   "cell_type": "code",
   "execution_count": 14,
   "metadata": {},
   "outputs": [],
   "source": [
    "output = np.concatenate((test_data[\"_ID\"].to_numpy().reshape(-1,1), y_pred_test.reshape(-1,1)), axis=1)"
   ]
  },
  {
   "cell_type": "code",
   "execution_count": 15,
   "metadata": {},
   "outputs": [],
   "source": [
    "output_df = pd.DataFrame(output, columns=['_ID', 'Y'])\n",
    "output_df = output_df.astype({'_ID': 'int32'})\n",
    "output_df.to_csv('output.csv', index=False)"
   ]
  },
  {
   "cell_type": "markdown",
   "metadata": {},
   "source": [
    "# Enregistrement des modèles"
   ]
  },
  {
   "cell_type": "code",
   "execution_count": 17,
   "metadata": {},
   "outputs": [
    {
     "ename": "FileNotFoundError",
     "evalue": "[Errno 2] No such file or directory: './modeles/random_forest_re02_2.pkl'",
     "output_type": "error",
     "traceback": [
      "\u001b[0;31m---------------------------------------------------------------------------\u001b[0m",
      "\u001b[0;31mFileNotFoundError\u001b[0m                         Traceback (most recent call last)",
      "\u001b[1;32m/home/gbarree/algo_data/algo-challenge/notebooks/random_forest.ipynb Cell 27'\u001b[0m in \u001b[0;36m<module>\u001b[0;34m\u001b[0m\n\u001b[1;32m      <a href='vscode-notebook-cell://wsl%2Bubuntu/home/gbarree/algo_data/algo-challenge/notebooks/random_forest.ipynb#ch0000026vscode-remote?line=2'>3</a>\u001b[0m modele_path \u001b[39m=\u001b[39m \u001b[39m\"\u001b[39m\u001b[39m./modeles/\u001b[39m\u001b[39m\"\u001b[39m\n\u001b[1;32m      <a href='vscode-notebook-cell://wsl%2Bubuntu/home/gbarree/algo_data/algo-challenge/notebooks/random_forest.ipynb#ch0000026vscode-remote?line=4'>5</a>\u001b[0m \u001b[39m# now you can save it to a file\u001b[39;00m\n\u001b[0;32m----> <a href='vscode-notebook-cell://wsl%2Bubuntu/home/gbarree/algo_data/algo-challenge/notebooks/random_forest.ipynb#ch0000026vscode-remote?line=5'>6</a>\u001b[0m \u001b[39mwith\u001b[39;00m \u001b[39mopen\u001b[39;49m(modele_path \u001b[39m+\u001b[39;49m \u001b[39m'\u001b[39;49m\u001b[39mrandom_forest_re02_2.pkl\u001b[39;49m\u001b[39m'\u001b[39;49m, \u001b[39m'\u001b[39;49m\u001b[39mwb\u001b[39;49m\u001b[39m'\u001b[39;49m) \u001b[39mas\u001b[39;00m f:\n\u001b[1;32m      <a href='vscode-notebook-cell://wsl%2Bubuntu/home/gbarree/algo_data/algo-challenge/notebooks/random_forest.ipynb#ch0000026vscode-remote?line=6'>7</a>\u001b[0m     pickle\u001b[39m.\u001b[39mdump(rfr_re02, f)\n\u001b[1;32m      <a href='vscode-notebook-cell://wsl%2Bubuntu/home/gbarree/algo_data/algo-challenge/notebooks/random_forest.ipynb#ch0000026vscode-remote?line=8'>9</a>\u001b[0m \u001b[39mwith\u001b[39;00m \u001b[39mopen\u001b[39m(modele_path \u001b[39m+\u001b[39m \u001b[39m'\u001b[39m\u001b[39mrandom_forest_rm_2.pkl\u001b[39m\u001b[39m'\u001b[39m, \u001b[39m'\u001b[39m\u001b[39mwb\u001b[39m\u001b[39m'\u001b[39m) \u001b[39mas\u001b[39;00m f:\n",
      "\u001b[0;31mFileNotFoundError\u001b[0m: [Errno 2] No such file or directory: './modeles/random_forest_re02_2.pkl'"
     ]
    }
   ],
   "source": [
    "import pickle\n",
    "\n",
    "modele_path = \"./modeles/\"\n",
    "\n",
    "# now you can save it to a file\n",
    "with open(modele_path + 'random_forest_re02_2.pkl', 'wb') as f:\n",
    "    pickle.dump(rfr_re02, f)\n",
    "\n",
    "with open(modele_path + 'random_forest_rm_2.pkl', 'wb') as f:\n",
    "    pickle.dump(rfr, f)\n",
    "    \n",
    "with open(modele_path + 'random_forest_A_2.pkl', 'wb') as f:\n",
    "    pickle.dump(rfr_A, f)  \n"
   ]
  },
  {
   "cell_type": "markdown",
   "metadata": {},
   "source": [
    "# Chargement des modèles"
   ]
  },
  {
   "cell_type": "code",
   "execution_count": null,
   "metadata": {},
   "outputs": [
    {
     "name": "stdout",
     "output_type": "stream",
     "text": [
      "-------------------------\n",
      "Résistance mécanique Rm\n",
      "-------------------------\n",
      "Train:  0.9978717285976809\n",
      "Test:  0.688109371453149\n",
      "-------------------------\n",
      "Résistance élastique Re02\n",
      "-------------------------\n",
      "Train:  0.9990943697802303\n",
      "Test:  0.8004542256582448\n",
      "mse\n",
      "-------------------------\n",
      "Allongement à la rupture A%\n",
      "-------------------------\n",
      "Train:  0.9991336403334773\n",
      "Test:  0.8387497814415037\n"
     ]
    }
   ],
   "source": [
    "import pickle\n",
    "modele_path = \"./modeles/\"\n",
    "\n",
    "with open(modele_path + 'random_forest_rm_2.pkl', 'rb') as f:\n",
    "    clf_rm = pickle.load(f)\n",
    "print(\"-------------------------\")\n",
    "print(\"Résistance mécanique Rm\")\n",
    "print(\"-------------------------\")\n",
    "print(\"Train: \",clf_rm.score(X_train, Y_train_rm))\n",
    "print(\"Test: \", clf_rm.score(X_test, Y_test_rm))\n",
    "\n",
    "with open(modele_path + 'random_forest_re02_2.pkl', 'rb') as f:\n",
    "    clf_re02 = pickle.load(f)\n",
    "    \n",
    "print(\"-------------------------\")\n",
    "print(\"Résistance élastique Re02\")\n",
    "print(\"-------------------------\")\n",
    "print(\"Train: \", clf_re02.score(X_train_re02, Y_train_re02))\n",
    "print(\"Test: \", clf_re02.score(X_test_re02, Y_test_re02))\n",
    "\n",
    "with open(modele_path + 'random_forest_A_2.pkl', 'rb') as f:\n",
    "    clf_A = pickle.load(f)\n",
    "print(\"-------------------------\")\n",
    "print(\"Allongement à la rupture A%\")\n",
    "print(\"-------------------------\")\n",
    "print(\"Train: \",clf_A.score(X_train_A, Y_train_A))\n",
    "print(\"Test: \", clf_A.score(X_test_A, Y_test_A))\n"
   ]
  },
  {
   "cell_type": "markdown",
   "metadata": {},
   "source": []
  }
 ],
 "metadata": {
  "interpreter": {
   "hash": "40d3a090f54c6569ab1632332b64b2c03c39dcf918b08424e98f38b5ae0af88f"
  },
  "kernelspec": {
   "display_name": "Python 3.8.5 64-bit ('base': conda)",
   "language": "python",
   "name": "python3"
  },
  "language_info": {
   "codemirror_mode": {
    "name": "ipython",
    "version": 3
   },
   "file_extension": ".py",
   "mimetype": "text/x-python",
   "name": "python",
   "nbconvert_exporter": "python",
   "pygments_lexer": "ipython3",
   "version": "3.8.10"
  },
  "orig_nbformat": 4
 },
 "nbformat": 4,
 "nbformat_minor": 2
}

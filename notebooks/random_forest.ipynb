{
 "cells": [
  {
   "cell_type": "markdown",
   "metadata": {},
   "source": [
    "# Importation des librairies"
   ]
  },
  {
   "cell_type": "code",
   "execution_count": 1,
   "metadata": {},
   "outputs": [],
   "source": [
    "import numpy as np\n",
    "import pandas as pd\n",
    "import matplotlib.pyplot as plt\n",
    "import seaborn as sns\n",
    "import tqdm\n",
    "import os\n",
    "\n",
    "%matplotlib inline\n",
    "path_to_data=\"../data/train\""
   ]
  },
  {
   "cell_type": "markdown",
   "metadata": {},
   "source": [
    "# Chargement des données\n",
    "Utilisation d'une dataframe panda"
   ]
  },
  {
   "cell_type": "code",
   "execution_count": 2,
   "metadata": {},
   "outputs": [
    {
     "name": "stderr",
     "output_type": "stream",
     "text": [
      "100%|██████████| 2/2 [00:00<00:00, 45.22it/s]\n"
     ]
    }
   ],
   "source": [
    "data = {}\n",
    "data_files = os.listdir(path_to_data)\n",
    "\n",
    "for datafile in tqdm.tqdm(data_files):\n",
    "    if \"input\" in datafile:\n",
    "        data[\"input\"] = pd.read_csv(\n",
    "            os.path.join(path_to_data, datafile), delimiter=\",\", decimal=\".\"\n",
    "        )\n",
    "    else:\n",
    "        data[\"target\"] = pd.read_csv(\n",
    "            os.path.join(path_to_data, datafile), delimiter=\",\", decimal=\".\"\n",
    "        )"
   ]
  },
  {
   "cell_type": "markdown",
   "metadata": {},
   "source": []
  },
  {
   "cell_type": "markdown",
   "metadata": {},
   "source": [
    "# Description des données"
   ]
  },
  {
   "cell_type": "code",
   "execution_count": 27,
   "metadata": {},
   "outputs": [
    {
     "data": {
      "text/plain": [
       "1087"
      ]
     },
     "execution_count": 27,
     "metadata": {},
     "output_type": "execute_result"
    }
   ],
   "source": [
    "len(data['input'])"
   ]
  },
  {
   "cell_type": "code",
   "execution_count": 28,
   "metadata": {},
   "outputs": [
    {
     "data": {
      "text/plain": [
       "1087"
      ]
     },
     "execution_count": 28,
     "metadata": {},
     "output_type": "execute_result"
    }
   ],
   "source": [
    "len(data['target'])"
   ]
  },
  {
   "cell_type": "code",
   "execution_count": 29,
   "metadata": {},
   "outputs": [
    {
     "data": {
      "text/html": [
       "<div>\n",
       "<style scoped>\n",
       "    .dataframe tbody tr th:only-of-type {\n",
       "        vertical-align: middle;\n",
       "    }\n",
       "\n",
       "    .dataframe tbody tr th {\n",
       "        vertical-align: top;\n",
       "    }\n",
       "\n",
       "    .dataframe thead th {\n",
       "        text-align: right;\n",
       "    }\n",
       "</style>\n",
       "<table border=\"1\" class=\"dataframe\">\n",
       "  <thead>\n",
       "    <tr style=\"text-align: right;\">\n",
       "      <th></th>\n",
       "      <th>_ID</th>\n",
       "      <th>X1</th>\n",
       "      <th>X2</th>\n",
       "      <th>X3</th>\n",
       "      <th>X4</th>\n",
       "      <th>X5</th>\n",
       "      <th>X6</th>\n",
       "      <th>X7</th>\n",
       "      <th>X8</th>\n",
       "      <th>X9</th>\n",
       "      <th>...</th>\n",
       "      <th>X330</th>\n",
       "      <th>X331</th>\n",
       "      <th>X332</th>\n",
       "      <th>X333</th>\n",
       "      <th>X334</th>\n",
       "      <th>X335</th>\n",
       "      <th>X336</th>\n",
       "      <th>X337</th>\n",
       "      <th>X338</th>\n",
       "      <th>X339</th>\n",
       "    </tr>\n",
       "  </thead>\n",
       "  <tbody>\n",
       "    <tr>\n",
       "      <th>count</th>\n",
       "      <td>1087.000000</td>\n",
       "      <td>1087.000000</td>\n",
       "      <td>1087.000000</td>\n",
       "      <td>1087.000000</td>\n",
       "      <td>1087.000000</td>\n",
       "      <td>1087.000000</td>\n",
       "      <td>1087.000000</td>\n",
       "      <td>1087.000000</td>\n",
       "      <td>1087.000000</td>\n",
       "      <td>1087.000000</td>\n",
       "      <td>...</td>\n",
       "      <td>1087.000000</td>\n",
       "      <td>1087.000000</td>\n",
       "      <td>1087.000000</td>\n",
       "      <td>1087.000000</td>\n",
       "      <td>1087.000000</td>\n",
       "      <td>1087.000000</td>\n",
       "      <td>1087.000000</td>\n",
       "      <td>1087.000000</td>\n",
       "      <td>1087.000000</td>\n",
       "      <td>1087.000000</td>\n",
       "    </tr>\n",
       "    <tr>\n",
       "      <th>mean</th>\n",
       "      <td>544.000000</td>\n",
       "      <td>0.324930</td>\n",
       "      <td>0.598499</td>\n",
       "      <td>0.004600</td>\n",
       "      <td>0.092906</td>\n",
       "      <td>0.096465</td>\n",
       "      <td>0.023919</td>\n",
       "      <td>0.007820</td>\n",
       "      <td>0.132674</td>\n",
       "      <td>0.092115</td>\n",
       "      <td>...</td>\n",
       "      <td>0.050943</td>\n",
       "      <td>0.056610</td>\n",
       "      <td>0.027599</td>\n",
       "      <td>0.134391</td>\n",
       "      <td>0.155980</td>\n",
       "      <td>0.009972</td>\n",
       "      <td>0.004600</td>\n",
       "      <td>0.016559</td>\n",
       "      <td>0.031279</td>\n",
       "      <td>0.002883</td>\n",
       "    </tr>\n",
       "    <tr>\n",
       "      <th>std</th>\n",
       "      <td>313.934176</td>\n",
       "      <td>0.127109</td>\n",
       "      <td>0.112948</td>\n",
       "      <td>0.052357</td>\n",
       "      <td>0.101186</td>\n",
       "      <td>0.113275</td>\n",
       "      <td>0.152867</td>\n",
       "      <td>0.072343</td>\n",
       "      <td>0.088995</td>\n",
       "      <td>0.084020</td>\n",
       "      <td>...</td>\n",
       "      <td>0.098945</td>\n",
       "      <td>0.136687</td>\n",
       "      <td>0.163896</td>\n",
       "      <td>0.176417</td>\n",
       "      <td>0.103498</td>\n",
       "      <td>0.062025</td>\n",
       "      <td>0.067697</td>\n",
       "      <td>0.086610</td>\n",
       "      <td>0.174150</td>\n",
       "      <td>0.041849</td>\n",
       "    </tr>\n",
       "    <tr>\n",
       "      <th>min</th>\n",
       "      <td>1.000000</td>\n",
       "      <td>0.000000</td>\n",
       "      <td>-0.045405</td>\n",
       "      <td>0.000000</td>\n",
       "      <td>0.000000</td>\n",
       "      <td>0.000000</td>\n",
       "      <td>0.000000</td>\n",
       "      <td>0.000000</td>\n",
       "      <td>0.006862</td>\n",
       "      <td>0.000000</td>\n",
       "      <td>...</td>\n",
       "      <td>0.000000</td>\n",
       "      <td>-0.007090</td>\n",
       "      <td>0.000000</td>\n",
       "      <td>-0.001502</td>\n",
       "      <td>0.004104</td>\n",
       "      <td>0.000000</td>\n",
       "      <td>0.000000</td>\n",
       "      <td>0.000000</td>\n",
       "      <td>0.000000</td>\n",
       "      <td>0.000000</td>\n",
       "    </tr>\n",
       "    <tr>\n",
       "      <th>25%</th>\n",
       "      <td>272.500000</td>\n",
       "      <td>0.248555</td>\n",
       "      <td>0.540171</td>\n",
       "      <td>0.000000</td>\n",
       "      <td>0.028135</td>\n",
       "      <td>0.020824</td>\n",
       "      <td>0.000000</td>\n",
       "      <td>0.000000</td>\n",
       "      <td>0.083894</td>\n",
       "      <td>0.046002</td>\n",
       "      <td>...</td>\n",
       "      <td>0.000000</td>\n",
       "      <td>0.000000</td>\n",
       "      <td>0.000000</td>\n",
       "      <td>0.000000</td>\n",
       "      <td>0.095754</td>\n",
       "      <td>0.000000</td>\n",
       "      <td>0.000000</td>\n",
       "      <td>0.000000</td>\n",
       "      <td>0.000000</td>\n",
       "      <td>0.000000</td>\n",
       "    </tr>\n",
       "    <tr>\n",
       "      <th>50%</th>\n",
       "      <td>544.000000</td>\n",
       "      <td>0.303300</td>\n",
       "      <td>0.608965</td>\n",
       "      <td>0.000000</td>\n",
       "      <td>0.066682</td>\n",
       "      <td>0.072494</td>\n",
       "      <td>0.000000</td>\n",
       "      <td>0.000000</td>\n",
       "      <td>0.112968</td>\n",
       "      <td>0.077890</td>\n",
       "      <td>...</td>\n",
       "      <td>0.000000</td>\n",
       "      <td>0.000000</td>\n",
       "      <td>0.000000</td>\n",
       "      <td>0.049144</td>\n",
       "      <td>0.135002</td>\n",
       "      <td>0.000000</td>\n",
       "      <td>0.000000</td>\n",
       "      <td>0.000000</td>\n",
       "      <td>0.000000</td>\n",
       "      <td>0.000000</td>\n",
       "    </tr>\n",
       "    <tr>\n",
       "      <th>75%</th>\n",
       "      <td>815.500000</td>\n",
       "      <td>0.369575</td>\n",
       "      <td>0.668921</td>\n",
       "      <td>0.000000</td>\n",
       "      <td>0.134380</td>\n",
       "      <td>0.131796</td>\n",
       "      <td>0.000000</td>\n",
       "      <td>0.000000</td>\n",
       "      <td>0.149047</td>\n",
       "      <td>0.112930</td>\n",
       "      <td>...</td>\n",
       "      <td>0.125000</td>\n",
       "      <td>0.000000</td>\n",
       "      <td>0.000000</td>\n",
       "      <td>0.227662</td>\n",
       "      <td>0.177760</td>\n",
       "      <td>0.000000</td>\n",
       "      <td>0.000000</td>\n",
       "      <td>0.000000</td>\n",
       "      <td>0.000000</td>\n",
       "      <td>0.000000</td>\n",
       "    </tr>\n",
       "    <tr>\n",
       "      <th>max</th>\n",
       "      <td>1087.000000</td>\n",
       "      <td>1.000000</td>\n",
       "      <td>1.000000</td>\n",
       "      <td>1.000000</td>\n",
       "      <td>1.000000</td>\n",
       "      <td>1.000000</td>\n",
       "      <td>1.000000</td>\n",
       "      <td>1.000000</td>\n",
       "      <td>1.000000</td>\n",
       "      <td>1.000000</td>\n",
       "      <td>...</td>\n",
       "      <td>1.000000</td>\n",
       "      <td>1.000000</td>\n",
       "      <td>1.000000</td>\n",
       "      <td>1.000000</td>\n",
       "      <td>1.000000</td>\n",
       "      <td>1.000000</td>\n",
       "      <td>1.000000</td>\n",
       "      <td>1.000000</td>\n",
       "      <td>1.000000</td>\n",
       "      <td>1.000000</td>\n",
       "    </tr>\n",
       "  </tbody>\n",
       "</table>\n",
       "<p>8 rows × 296 columns</p>\n",
       "</div>"
      ],
      "text/plain": [
       "               _ID           X1           X2           X3           X4  \\\n",
       "count  1087.000000  1087.000000  1087.000000  1087.000000  1087.000000   \n",
       "mean    544.000000     0.324930     0.598499     0.004600     0.092906   \n",
       "std     313.934176     0.127109     0.112948     0.052357     0.101186   \n",
       "min       1.000000     0.000000    -0.045405     0.000000     0.000000   \n",
       "25%     272.500000     0.248555     0.540171     0.000000     0.028135   \n",
       "50%     544.000000     0.303300     0.608965     0.000000     0.066682   \n",
       "75%     815.500000     0.369575     0.668921     0.000000     0.134380   \n",
       "max    1087.000000     1.000000     1.000000     1.000000     1.000000   \n",
       "\n",
       "                X5           X6           X7           X8           X9  ...  \\\n",
       "count  1087.000000  1087.000000  1087.000000  1087.000000  1087.000000  ...   \n",
       "mean      0.096465     0.023919     0.007820     0.132674     0.092115  ...   \n",
       "std       0.113275     0.152867     0.072343     0.088995     0.084020  ...   \n",
       "min       0.000000     0.000000     0.000000     0.006862     0.000000  ...   \n",
       "25%       0.020824     0.000000     0.000000     0.083894     0.046002  ...   \n",
       "50%       0.072494     0.000000     0.000000     0.112968     0.077890  ...   \n",
       "75%       0.131796     0.000000     0.000000     0.149047     0.112930  ...   \n",
       "max       1.000000     1.000000     1.000000     1.000000     1.000000  ...   \n",
       "\n",
       "              X330         X331         X332         X333         X334  \\\n",
       "count  1087.000000  1087.000000  1087.000000  1087.000000  1087.000000   \n",
       "mean      0.050943     0.056610     0.027599     0.134391     0.155980   \n",
       "std       0.098945     0.136687     0.163896     0.176417     0.103498   \n",
       "min       0.000000    -0.007090     0.000000    -0.001502     0.004104   \n",
       "25%       0.000000     0.000000     0.000000     0.000000     0.095754   \n",
       "50%       0.000000     0.000000     0.000000     0.049144     0.135002   \n",
       "75%       0.125000     0.000000     0.000000     0.227662     0.177760   \n",
       "max       1.000000     1.000000     1.000000     1.000000     1.000000   \n",
       "\n",
       "              X335         X336         X337         X338         X339  \n",
       "count  1087.000000  1087.000000  1087.000000  1087.000000  1087.000000  \n",
       "mean      0.009972     0.004600     0.016559     0.031279     0.002883  \n",
       "std       0.062025     0.067697     0.086610     0.174150     0.041849  \n",
       "min       0.000000     0.000000     0.000000     0.000000     0.000000  \n",
       "25%       0.000000     0.000000     0.000000     0.000000     0.000000  \n",
       "50%       0.000000     0.000000     0.000000     0.000000     0.000000  \n",
       "75%       0.000000     0.000000     0.000000     0.000000     0.000000  \n",
       "max       1.000000     1.000000     1.000000     1.000000     1.000000  \n",
       "\n",
       "[8 rows x 296 columns]"
      ]
     },
     "execution_count": 29,
     "metadata": {},
     "output_type": "execute_result"
    }
   ],
   "source": [
    "data['input'].describe()"
   ]
  },
  {
   "cell_type": "markdown",
   "metadata": {},
   "source": [
    "# Separation du dataset en train-set et test-set"
   ]
  },
  {
   "cell_type": "code",
   "execution_count": 20,
   "metadata": {},
   "outputs": [
    {
     "name": "stdout",
     "output_type": "stream",
     "text": [
      "(869, 295) (218, 295) (869,) (218,)\n"
     ]
    }
   ],
   "source": [
    "from sklearn.model_selection import train_test_split\n",
    "\n",
    "filter_sample = np.where(data[\"target\"][\"Y\"] == 0)[0]\n",
    "\n",
    "target = data['target'].drop(columns=[\"_ID\"])\n",
    "\n",
    "features = data['input'].drop(columns=[\"_ID\"])\n",
    "\n",
    "# features = features[['X2', 'X9', 'X12', 'X14', 'X21', 'X26', 'X27', 'X33', 'X41', 'X58', 'X67', 'X69', 'X72', 'X77', 'X79', 'X85', 'X89', 'X99', 'X102', 'X106', 'X107', 'X108', 'X120', 'X126', 'X129', 'X132', 'X133', 'X142', 'X146', 'X150', 'X155', 'X157', 'X159', 'X171', 'X179', 'X194', 'X203', 'X207', 'X214', 'X223', 'X225', 'X226', 'X230', 'X231', 'X232', 'X233', 'X237', 'X243', 'X252', 'X253', 'X261', 'X264', 'X280', 'X284', 'X288', 'X300', 'X309', 'X316', 'X330', 'X333']]\n",
    "\n",
    "x_train, x_valid, y_train, y_valid = train_test_split(features,target,test_size=0.20,random_state=0)\n",
    "y_train = y_train.values.ravel()\n",
    "y_valid = y_valid.values.ravel()\n",
    "\n",
    "print(x_train.shape, x_valid.shape, y_train.shape, y_valid.shape)"
   ]
  },
  {
   "cell_type": "markdown",
   "metadata": {},
   "source": [
    "# Modele de Régression"
   ]
  },
  {
   "cell_type": "markdown",
   "metadata": {},
   "source": [
    "## Importation des métriques"
   ]
  },
  {
   "cell_type": "code",
   "execution_count": 5,
   "metadata": {},
   "outputs": [],
   "source": [
    "from sklearn.metrics import r2_score, mean_squared_error"
   ]
  },
  {
   "cell_type": "markdown",
   "metadata": {},
   "source": [
    "## Random Forest"
   ]
  },
  {
   "cell_type": "markdown",
   "metadata": {},
   "source": [
    "### Prédiction"
   ]
  },
  {
   "cell_type": "code",
   "execution_count": 58,
   "metadata": {},
   "outputs": [
    {
     "name": "stdout",
     "output_type": "stream",
     "text": [
      "0.9931622401954187\n",
      "(218,)\n",
      "(218,)\n",
      "R2_score :  0.5980093956000501\n",
      "MSE :  0.03913544311556372\n",
      "MSE :  0.0006828526527588776\n"
     ]
    }
   ],
   "source": [
    "from sklearn.ensemble import RandomForestRegressor, ExtraTreesRegressor\n",
    "\n",
    "\n",
    "rfr = ExtraTreesRegressor(bootstrap=False, \n",
    "                            max_depth=24, \n",
    "                            max_features=100,\n",
    "                            min_samples_split=4, \n",
    "                            n_estimators=80, \n",
    "                            n_jobs=-1)\n",
    "\n",
    "rfr.fit(x_train, y_train)\n",
    "print(rfr.score(x_train, y_train))\n",
    "\n",
    "y_pred_rfr = rfr.predict(x_valid)\n",
    "print(y_pred_rfr.shape)\n",
    "print(y_valid.shape)\n",
    "\n",
    "print(\"R2_score : \", r2_score(y_valid, y_pred_rfr))\n",
    "print(\"MSE : \", mean_squared_error(y_valid, y_pred_rfr))\n",
    "\n",
    "print(\"MSE : \", mean_squared_error(y_train, rfr.predict(x_train)))\n",
    "\n"
   ]
  },
  {
   "cell_type": "code",
   "execution_count": 12,
   "metadata": {},
   "outputs": [
    {
     "data": {
      "image/png": "[encoded data removed]",
      "text/plain": [
       "<Figure size 432x288 with 1 Axes>"
      ]
     },
     "metadata": {
      "needs_background": "light"
     },
     "output_type": "display_data"
    }
   ],
   "source": [
    "plt.plot(y_valid, y_pred_rfr, 'o')\n",
    "plt.xlabel(\"Données réelles\")\n",
    "plt.ylabel(\"Données prédites\")\n",
    "plt.show()"
   ]
  },
  {
   "cell_type": "code",
   "execution_count": 59,
   "metadata": {},
   "outputs": [
    {
     "name": "stderr",
     "output_type": "stream",
     "text": [
      "100%|██████████| 1/1 [00:00<00:00, 28.84it/s]\n"
     ]
    },
    {
     "data": {
      "text/html": [
       "<div>\n",
       "<style scoped>\n",
       "    .dataframe tbody tr th:only-of-type {\n",
       "        vertical-align: middle;\n",
       "    }\n",
       "\n",
       "    .dataframe tbody tr th {\n",
       "        vertical-align: top;\n",
       "    }\n",
       "\n",
       "    .dataframe thead th {\n",
       "        text-align: right;\n",
       "    }\n",
       "</style>\n",
       "<table border=\"1\" class=\"dataframe\">\n",
       "  <thead>\n",
       "    <tr style=\"text-align: right;\">\n",
       "      <th></th>\n",
       "      <th>_ID</th>\n",
       "      <th>X1</th>\n",
       "      <th>X2</th>\n",
       "      <th>X3</th>\n",
       "      <th>X4</th>\n",
       "      <th>X5</th>\n",
       "      <th>X6</th>\n",
       "      <th>X7</th>\n",
       "      <th>X8</th>\n",
       "      <th>X9</th>\n",
       "      <th>...</th>\n",
       "      <th>X330</th>\n",
       "      <th>X331</th>\n",
       "      <th>X332</th>\n",
       "      <th>X333</th>\n",
       "      <th>X334</th>\n",
       "      <th>X335</th>\n",
       "      <th>X336</th>\n",
       "      <th>X337</th>\n",
       "      <th>X338</th>\n",
       "      <th>X339</th>\n",
       "    </tr>\n",
       "  </thead>\n",
       "  <tbody>\n",
       "    <tr>\n",
       "      <th>0</th>\n",
       "      <td>1088</td>\n",
       "      <td>0.421261</td>\n",
       "      <td>0.546021</td>\n",
       "      <td>0</td>\n",
       "      <td>0.029268</td>\n",
       "      <td>0.000000</td>\n",
       "      <td>0</td>\n",
       "      <td>0</td>\n",
       "      <td>0.062175</td>\n",
       "      <td>0.059580</td>\n",
       "      <td>...</td>\n",
       "      <td>0.0</td>\n",
       "      <td>0.224574</td>\n",
       "      <td>0</td>\n",
       "      <td>0.000000</td>\n",
       "      <td>0.064333</td>\n",
       "      <td>0</td>\n",
       "      <td>0</td>\n",
       "      <td>0.0</td>\n",
       "      <td>0</td>\n",
       "      <td>0.0</td>\n",
       "    </tr>\n",
       "    <tr>\n",
       "      <th>1</th>\n",
       "      <td>1089</td>\n",
       "      <td>0.336232</td>\n",
       "      <td>0.727931</td>\n",
       "      <td>0</td>\n",
       "      <td>0.134967</td>\n",
       "      <td>0.194293</td>\n",
       "      <td>0</td>\n",
       "      <td>0</td>\n",
       "      <td>0.183858</td>\n",
       "      <td>0.099622</td>\n",
       "      <td>...</td>\n",
       "      <td>0.0</td>\n",
       "      <td>0.000000</td>\n",
       "      <td>0</td>\n",
       "      <td>0.170102</td>\n",
       "      <td>0.195474</td>\n",
       "      <td>0</td>\n",
       "      <td>0</td>\n",
       "      <td>0.0</td>\n",
       "      <td>0</td>\n",
       "      <td>0.0</td>\n",
       "    </tr>\n",
       "    <tr>\n",
       "      <th>2</th>\n",
       "      <td>1090</td>\n",
       "      <td>0.335788</td>\n",
       "      <td>0.567076</td>\n",
       "      <td>0</td>\n",
       "      <td>0.108601</td>\n",
       "      <td>0.040054</td>\n",
       "      <td>0</td>\n",
       "      <td>0</td>\n",
       "      <td>0.089720</td>\n",
       "      <td>0.078247</td>\n",
       "      <td>...</td>\n",
       "      <td>0.0</td>\n",
       "      <td>0.000000</td>\n",
       "      <td>0</td>\n",
       "      <td>0.177861</td>\n",
       "      <td>0.107409</td>\n",
       "      <td>0</td>\n",
       "      <td>0</td>\n",
       "      <td>0.0</td>\n",
       "      <td>0</td>\n",
       "      <td>0.0</td>\n",
       "    </tr>\n",
       "    <tr>\n",
       "      <th>3</th>\n",
       "      <td>1091</td>\n",
       "      <td>0.328875</td>\n",
       "      <td>0.580493</td>\n",
       "      <td>0</td>\n",
       "      <td>0.147206</td>\n",
       "      <td>0.046594</td>\n",
       "      <td>0</td>\n",
       "      <td>0</td>\n",
       "      <td>0.103053</td>\n",
       "      <td>0.063454</td>\n",
       "      <td>...</td>\n",
       "      <td>0.0</td>\n",
       "      <td>0.000000</td>\n",
       "      <td>0</td>\n",
       "      <td>0.000000</td>\n",
       "      <td>0.118341</td>\n",
       "      <td>0</td>\n",
       "      <td>0</td>\n",
       "      <td>0.0</td>\n",
       "      <td>0</td>\n",
       "      <td>0.0</td>\n",
       "    </tr>\n",
       "    <tr>\n",
       "      <th>4</th>\n",
       "      <td>1092</td>\n",
       "      <td>0.248126</td>\n",
       "      <td>0.658921</td>\n",
       "      <td>0</td>\n",
       "      <td>0.000000</td>\n",
       "      <td>0.000000</td>\n",
       "      <td>0</td>\n",
       "      <td>0</td>\n",
       "      <td>0.098379</td>\n",
       "      <td>0.002061</td>\n",
       "      <td>...</td>\n",
       "      <td>0.0</td>\n",
       "      <td>0.000000</td>\n",
       "      <td>0</td>\n",
       "      <td>0.261934</td>\n",
       "      <td>0.159203</td>\n",
       "      <td>0</td>\n",
       "      <td>0</td>\n",
       "      <td>0.0</td>\n",
       "      <td>0</td>\n",
       "      <td>0.0</td>\n",
       "    </tr>\n",
       "  </tbody>\n",
       "</table>\n",
       "<p>5 rows × 296 columns</p>\n",
       "</div>"
      ],
      "text/plain": [
       "    _ID        X1        X2  X3        X4        X5  X6  X7        X8  \\\n",
       "0  1088  0.421261  0.546021   0  0.029268  0.000000   0   0  0.062175   \n",
       "1  1089  0.336232  0.727931   0  0.134967  0.194293   0   0  0.183858   \n",
       "2  1090  0.335788  0.567076   0  0.108601  0.040054   0   0  0.089720   \n",
       "3  1091  0.328875  0.580493   0  0.147206  0.046594   0   0  0.103053   \n",
       "4  1092  0.248126  0.658921   0  0.000000  0.000000   0   0  0.098379   \n",
       "\n",
       "         X9  ...  X330      X331  X332      X333      X334  X335  X336  X337  \\\n",
       "0  0.059580  ...   0.0  0.224574     0  0.000000  0.064333     0     0   0.0   \n",
       "1  0.099622  ...   0.0  0.000000     0  0.170102  0.195474     0     0   0.0   \n",
       "2  0.078247  ...   0.0  0.000000     0  0.177861  0.107409     0     0   0.0   \n",
       "3  0.063454  ...   0.0  0.000000     0  0.000000  0.118341     0     0   0.0   \n",
       "4  0.002061  ...   0.0  0.000000     0  0.261934  0.159203     0     0   0.0   \n",
       "\n",
       "   X338  X339  \n",
       "0     0   0.0  \n",
       "1     0   0.0  \n",
       "2     0   0.0  \n",
       "3     0   0.0  \n",
       "4     0   0.0  \n",
       "\n",
       "[5 rows x 296 columns]"
      ]
     },
     "execution_count": 59,
     "metadata": {},
     "output_type": "execute_result"
    }
   ],
   "source": [
    "data_files = os.listdir('../data/test')\n",
    "\n",
    "for datafile in tqdm.tqdm(data_files):\n",
    "    if \"input\" in datafile:\n",
    "        test_data = pd.read_csv(\n",
    "            os.path.join('../data/test', datafile), delimiter=\",\", decimal=\".\"\n",
    "        )\n",
    "\n",
    "test_data.head()"
   ]
  },
  {
   "cell_type": "code",
   "execution_count": 60,
   "metadata": {},
   "outputs": [],
   "source": [
    "x_test = test_data.drop(columns=[\"_ID\"])"
   ]
  },
  {
   "cell_type": "code",
   "execution_count": 61,
   "metadata": {},
   "outputs": [
    {
     "data": {
      "text/plain": [
       "(272,)"
      ]
     },
     "execution_count": 61,
     "metadata": {},
     "output_type": "execute_result"
    }
   ],
   "source": [
    "y_pred_test = rfr.predict(x_test)\n",
    "y_pred_test.shape"
   ]
  },
  {
   "cell_type": "code",
   "execution_count": 62,
   "metadata": {},
   "outputs": [
    {
     "data": {
      "text/plain": [
       "(272,)"
      ]
     },
     "execution_count": 62,
     "metadata": {},
     "output_type": "execute_result"
    }
   ],
   "source": [
    "test_data['_ID'].to_numpy().shape\n"
   ]
  },
  {
   "cell_type": "code",
   "execution_count": 63,
   "metadata": {},
   "outputs": [],
   "source": [
    "output = np.concatenate((test_data[\"_ID\"].to_numpy().reshape(-1,1), y_pred_test.reshape(-1,1)), axis=1)"
   ]
  },
  {
   "cell_type": "code",
   "execution_count": 64,
   "metadata": {},
   "outputs": [],
   "source": [
    "output_df = pd.DataFrame(output, columns=['_ID', 'Y'])\n",
    "output_df = output_df.astype({'_ID': 'int32'})\n",
    "output_df.to_csv('output.csv', index=False)"
   ]
  },
  {
   "cell_type": "code",
   "execution_count": 57,
   "metadata": {},
   "outputs": [
    {
     "data": {
      "text/plain": [
       "array([18, 19, 20, 21, 22, 23, 24, 25, 26, 27])"
      ]
     },
     "execution_count": 57,
     "metadata": {},
     "output_type": "execute_result"
    }
   ],
   "source": [
    "np.arange(18,28,1)"
   ]
  },
  {
   "cell_type": "markdown",
   "metadata": {},
   "source": [
    "# Enregistrement des modèles"
   ]
  },
  {
   "cell_type": "code",
   "execution_count": null,
   "metadata": {},
   "outputs": [],
   "source": [
    "import pickle\n",
    "\n",
    "modele_path = \"./modeles/\"\n",
    "\n",
    "# now you can save it to a file\n",
    "with open(modele_path + 'random_forest_re02_2.pkl', 'wb') as f:\n",
    "    pickle.dump(rfr_re02, f)\n",
    "\n",
    "with open(modele_path + 'random_forest_rm_2.pkl', 'wb') as f:\n",
    "    pickle.dump(rfr, f)\n",
    "    \n",
    "with open(modele_path + 'random_forest_A_2.pkl', 'wb') as f:\n",
    "    pickle.dump(rfr_A, f)  \n"
   ]
  },
  {
   "cell_type": "markdown",
   "metadata": {},
   "source": [
    "# Chargement des modèles"
   ]
  },
  {
   "cell_type": "code",
   "execution_count": null,
   "metadata": {},
   "outputs": [
    {
     "name": "stdout",
     "output_type": "stream",
     "text": [
      "-------------------------\n",
      "Résistance mécanique Rm\n",
      "-------------------------\n",
      "Train:  0.9978717285976809\n",
      "Test:  0.688109371453149\n",
      "-------------------------\n",
      "Résistance élastique Re02\n",
      "-------------------------\n",
      "Train:  0.9990943697802303\n",
      "Test:  0.8004542256582448\n",
      "mse\n",
      "-------------------------\n",
      "Allongement à la rupture A%\n",
      "-------------------------\n",
      "Train:  0.9991336403334773\n",
      "Test:  0.8387497814415037\n"
     ]
    }
   ],
   "source": [
    "import pickle\n",
    "modele_path = \"./modeles/\"\n",
    "\n",
    "with open(modele_path + 'random_forest_rm_2.pkl', 'rb') as f:\n",
    "    clf_rm = pickle.load(f)\n",
    "print(\"-------------------------\")\n",
    "print(\"Résistance mécanique Rm\")\n",
    "print(\"-------------------------\")\n",
    "print(\"Train: \",clf_rm.score(X_train, Y_train_rm))\n",
    "print(\"Test: \", clf_rm.score(X_test, Y_test_rm))\n",
    "\n",
    "with open(modele_path + 'random_forest_re02_2.pkl', 'rb') as f:\n",
    "    clf_re02 = pickle.load(f)\n",
    "    \n",
    "print(\"-------------------------\")\n",
    "print(\"Résistance élastique Re02\")\n",
    "print(\"-------------------------\")\n",
    "print(\"Train: \", clf_re02.score(X_train_re02, Y_train_re02))\n",
    "print(\"Test: \", clf_re02.score(X_test_re02, Y_test_re02))\n",
    "\n",
    "with open(modele_path + 'random_forest_A_2.pkl', 'rb') as f:\n",
    "    clf_A = pickle.load(f)\n",
    "print(\"-------------------------\")\n",
    "print(\"Allongement à la rupture A%\")\n",
    "print(\"-------------------------\")\n",
    "print(\"Train: \",clf_A.score(X_train_A, Y_train_A))\n",
    "print(\"Test: \", clf_A.score(X_test_A, Y_test_A))\n"
   ]
  },
  {
   "cell_type": "markdown",
   "metadata": {},
   "source": []
  }
 ],
 "metadata": {
  "interpreter": {
   "hash": "40d3a090f54c6569ab1632332b64b2c03c39dcf918b08424e98f38b5ae0af88f"
  },
  "kernelspec": {
   "display_name": "Python 3.8.5 64-bit ('base': conda)",
   "language": "python",
   "name": "python3"
  },
  "language_info": {
   "codemirror_mode": {
    "name": "ipython",
    "version": 3
   },
   "file_extension": ".py",
   "mimetype": "text/x-python",
   "name": "python",
   "nbconvert_exporter": "python",
   "pygments_lexer": "ipython3",
   "version": "3.8.10"
  },
  "orig_nbformat": 4
 },
 "nbformat": 4,
 "nbformat_minor": 2
}

{
 "cells": [
  {
   "cell_type": "markdown",
   "metadata": {},
   "source": [
    "# Importation des librairies"
   ]
  },
  {
   "cell_type": "code",
   "execution_count": 1,
   "metadata": {},
   "outputs": [],
   "source": [
    "import numpy as np\n",
    "import pandas as pd\n",
    "import matplotlib.pyplot as plt\n",
    "import seaborn as sns\n",
    "import tqdm\n",
    "import os\n",
    "\n",
    "%matplotlib inline\n",
    "path_to_data=\"../data/train\""
   ]
  },
  {
   "cell_type": "markdown",
   "metadata": {},
   "source": [
    "# Chargement des données\n",
    "Utilisation d'une dataframe panda"
   ]
  },
  {
   "cell_type": "code",
   "execution_count": 2,
   "metadata": {},
   "outputs": [
    {
     "name": "stderr",
     "output_type": "stream",
     "text": [
      "100%|██████████| 2/2 [00:00<00:00, 44.04it/s]\n"
     ]
    }
   ],
   "source": [
    "data = {}\n",
    "data_files = os.listdir(path_to_data)\n",
    "\n",
    "for datafile in tqdm.tqdm(data_files):\n",
    "    if \"input\" in datafile:\n",
    "        data[\"input\"] = pd.read_csv(\n",
    "            os.path.join(path_to_data, datafile), delimiter=\",\", decimal=\".\"\n",
    "        )\n",
    "    else:\n",
    "        data[\"target\"] = pd.read_csv(\n",
    "            os.path.join(path_to_data, datafile), delimiter=\",\", decimal=\".\"\n",
    "        )"
   ]
  },
  {
   "cell_type": "markdown",
   "metadata": {},
   "source": [
    "Description des données"
   ]
  },
  {
   "cell_type": "markdown",
   "metadata": {},
   "source": [
    "# Separation du dataset en train-set et test-set"
   ]
  },
  {
   "cell_type": "code",
   "execution_count": 3,
   "metadata": {},
   "outputs": [
    {
     "name": "stdout",
     "output_type": "stream",
     "text": [
      "(869, 295) (218, 295) (869,) (218,)\n"
     ]
    }
   ],
   "source": [
    "from sklearn.model_selection import train_test_split\n",
    "\n",
    "filters = data['input'][[\"_ID\"]]\n",
    "\n",
    "target = data['target'][[\"Y\"]]\n",
    "\n",
    "features = data['input'].drop(filters, axis=1)\n",
    "\n",
    "x_train, x_valid, y_train, y_valid = train_test_split(features,target,test_size=0.20,random_state=0)\n",
    "y_train = y_train.values.ravel()\n",
    "y_valid = y_valid.values.ravel()\n",
    "\n",
    "print(x_train.shape, x_valid.shape, y_train.shape, y_valid.shape)"
   ]
  },
  {
   "cell_type": "markdown",
   "metadata": {},
   "source": [
    "# Modele de Régression"
   ]
  },
  {
   "cell_type": "markdown",
   "metadata": {},
   "source": [
    "## Importation des métriques"
   ]
  },
  {
   "cell_type": "code",
   "execution_count": 4,
   "metadata": {},
   "outputs": [],
   "source": [
    "from sklearn.metrics import r2_score, mean_squared_error"
   ]
  },
  {
   "cell_type": "markdown",
   "metadata": {},
   "source": [
    "## SVM : SVR"
   ]
  },
  {
   "cell_type": "code",
   "execution_count": null,
   "metadata": {},
   "outputs": [],
   "source": []
  },
  {
   "cell_type": "markdown",
   "metadata": {},
   "source": [
    "## Random Forest"
   ]
  },
  {
   "cell_type": "markdown",
   "metadata": {},
   "source": [
    "### Test sur pour la prediction de Y"
   ]
  },
  {
   "cell_type": "code",
   "execution_count": 38,
   "metadata": {},
   "outputs": [
    {
     "name": "stdout",
     "output_type": "stream",
     "text": [
      "Fitting 5 folds for each of 1200 candidates, totalling 6000 fits\n"
     ]
    },
    {
     "name": "stderr",
     "output_type": "stream",
     "text": [
      "[Parallel(n_jobs=-1)]: Using backend LokyBackend with 4 concurrent workers.\n",
      "[Parallel(n_jobs=-1)]: Done  33 tasks      | elapsed:    8.3s\n",
      "[Parallel(n_jobs=-1)]: Done 154 tasks      | elapsed:   29.5s\n",
      "[Parallel(n_jobs=-1)]: Done 357 tasks      | elapsed:  1.1min\n",
      "[Parallel(n_jobs=-1)]: Done 640 tasks      | elapsed:  1.9min\n",
      "[Parallel(n_jobs=-1)]: Done 1005 tasks      | elapsed:  2.8min\n",
      "[Parallel(n_jobs=-1)]: Done 1450 tasks      | elapsed:  4.1min\n",
      "[Parallel(n_jobs=-1)]: Done 1977 tasks      | elapsed:  5.5min\n",
      "[Parallel(n_jobs=-1)]: Done 2584 tasks      | elapsed:  7.0min\n",
      "[Parallel(n_jobs=-1)]: Done 3273 tasks      | elapsed:  8.8min\n",
      "[Parallel(n_jobs=-1)]: Done 4042 tasks      | elapsed: 10.8min\n",
      "[Parallel(n_jobs=-1)]: Done 4893 tasks      | elapsed: 13.0min\n",
      "[Parallel(n_jobs=-1)]: Done 5824 tasks      | elapsed: 15.4min\n",
      "[Parallel(n_jobs=-1)]: Done 6000 out of 6000 | elapsed: 15.9min finished\n"
     ]
    },
    {
     "name": "stdout",
     "output_type": "stream",
     "text": [
      "RandomForestRegressor(bootstrap=False, max_depth=24, max_features=13,\n",
      "                      min_samples_split=4, n_estimators=80, n_jobs=-1) {'max_depth': 24, 'max_features': 13, 'min_samples_split': 4, 'n_estimators': 80} 0.6315416199908601\n"
     ]
    }
   ],
   "source": [
    "from sklearn.ensemble import RandomForestRegressor\n",
    "from sklearn.model_selection import GridSearchCV\n",
    "\n",
    "rfr = RandomForestRegressor(bootstrap=False, n_jobs=-1)\n",
    "\n",
    "\n",
    "param_grid = { \n",
    "            \"min_samples_split\" : np.arange(4, 8, 2),\n",
    "            'max_depth': np.arange(18, 28, 1),\n",
    "            'max_features': np.arange(50, 150, 5),\n",
    "            'n_estimators': np.arange(70, 120, 5),\n",
    "            }\n",
    "\n",
    "rfr_cv = GridSearchCV(rfr, param_grid=param_grid, n_jobs=-1, cv=5, verbose=2)\n",
    "rfr_cv.fit(x_train, y_train)\n",
    "\n",
    "print(rfr_cv.best_estimator_, rfr_cv.best_params_, rfr_cv.best_score_)\n"
   ]
  },
  {
   "cell_type": "code",
   "execution_count": 39,
   "metadata": {},
   "outputs": [
    {
     "name": "stdout",
     "output_type": "stream",
     "text": [
      "0.9979889287540843\n",
      "0.6790350783190295\n"
     ]
    }
   ],
   "source": [
    "best_rfr = rfr_cv.best_estimator_\n",
    "best_rfr.fit(x_train, y_train)\n",
    "print(best_rfr.score(x_train, y_train))\n",
    "print(best_rfr.score(x_valid, y_valid))"
   ]
  },
  {
   "cell_type": "code",
   "execution_count": 40,
   "metadata": {},
   "outputs": [
    {
     "name": "stdout",
     "output_type": "stream",
     "text": [
      "(129,)\n",
      "(129,)\n",
      "R2_score :  0.6790350783190295\n",
      "MSE :  162.11885924714684\n",
      "Valeur réelle :  1026 , Valeur prédite :  1028.0083333333337 , |Delta| =  2.008333333333667\n",
      "Valeur réelle :  1064 , Valeur prédite :  1059.2875000000004 , |Delta| =  4.712499999999636\n",
      "Valeur réelle :  1005 , Valeur prédite :  1006.8791666666666 , |Delta| =  1.879166666666606\n",
      "Valeur réelle :  987 , Valeur prédite :  1012.6812499999996 , |Delta| =  25.681249999999636\n",
      "Valeur réelle :  1030 , Valeur prédite :  1037.5770833333336 , |Delta| =  7.577083333333576\n",
      "Valeur réelle :  1050 , Valeur prédite :  1035.6333333333334 , |Delta| =  14.36666666666656\n",
      "Valeur réelle :  1042 , Valeur prédite :  1031.7854166666666 , |Delta| =  10.214583333333394\n",
      "Valeur réelle :  1028 , Valeur prédite :  1018.4895833333333 , |Delta| =  9.510416666666742\n",
      "Valeur réelle :  989 , Valeur prédite :  1016.7395833333336 , |Delta| =  27.7395833333336\n",
      "Valeur réelle :  1040 , Valeur prédite :  1027.7541666666664 , |Delta| =  12.245833333333621\n",
      "Valeur réelle :  998 , Valeur prédite :  1006.2583333333336 , |Delta| =  8.258333333333553\n",
      "Valeur réelle :  1041 , Valeur prédite :  1027.0791666666669 , |Delta| =  13.920833333333121\n",
      "Valeur réelle :  1017 , Valeur prédite :  1030.3958333333335 , |Delta| =  13.395833333333485\n",
      "Valeur réelle :  1030 , Valeur prédite :  1041.5937500000002 , |Delta| =  11.593750000000227\n",
      "Valeur réelle :  1044 , Valeur prédite :  1032.5583333333334 , |Delta| =  11.441666666666606\n",
      "Valeur réelle :  1045 , Valeur prédite :  1021.2458333333334 , |Delta| =  23.754166666666606\n",
      "Valeur réelle :  997 , Valeur prédite :  1007.09375 , |Delta| =  10.09375\n",
      "Valeur réelle :  1002 , Valeur prédite :  1013.2374999999998 , |Delta| =  11.23749999999984\n",
      "Valeur réelle :  1002 , Valeur prédite :  1013.2729166666666 , |Delta| =  11.27291666666656\n",
      "Valeur réelle :  1029 , Valeur prédite :  1034.5249999999996 , |Delta| =  5.524999999999636\n",
      "Valeur réelle :  1054 , Valeur prédite :  1035.1625 , |Delta| =  18.83750000000009\n",
      "Valeur réelle :  1000 , Valeur prédite :  985.9770833333332 , |Delta| =  14.022916666666788\n",
      "Valeur réelle :  1034 , Valeur prédite :  1033.7354166666667 , |Delta| =  0.2645833333333485\n",
      "Valeur réelle :  1009 , Valeur prédite :  1014.9020833333334 , |Delta| =  5.902083333333394\n",
      "Valeur réelle :  1055 , Valeur prédite :  1073.1083333333333 , |Delta| =  18.10833333333335\n",
      "Valeur réelle :  1044 , Valeur prédite :  1042.0020833333333 , |Delta| =  1.997916666666697\n",
      "Valeur réelle :  988 , Valeur prédite :  1004.0208333333334 , |Delta| =  16.02083333333337\n",
      "Valeur réelle :  1011 , Valeur prédite :  1013.8854166666666 , |Delta| =  2.8854166666666288\n",
      "Valeur réelle :  1047 , Valeur prédite :  1039.4458333333337 , |Delta| =  7.554166666666333\n",
      "Valeur réelle :  1036 , Valeur prédite :  1032.685416666667 , |Delta| =  3.3145833333330756\n",
      "Valeur réelle :  1019 , Valeur prédite :  1029.8083333333334 , |Delta| =  10.808333333333394\n",
      "Valeur réelle :  995 , Valeur prédite :  1000.0291666666666 , |Delta| =  5.029166666666583\n",
      "Valeur réelle :  1063 , Valeur prédite :  1040.41875 , |Delta| =  22.581249999999955\n",
      "Valeur réelle :  1035 , Valeur prédite :  1036.2541666666666 , |Delta| =  1.254166666666606\n",
      "Valeur réelle :  1034 , Valeur prédite :  1032.2979166666664 , |Delta| =  1.7020833333335759\n",
      "Valeur réelle :  1013 , Valeur prédite :  1011.3416666666668 , |Delta| =  1.6583333333331893\n",
      "Valeur réelle :  991 , Valeur prédite :  994.0624999999998 , |Delta| =  3.0624999999997726\n",
      "Valeur réelle :  1011 , Valeur prédite :  1016.1729166666664 , |Delta| =  5.172916666666424\n",
      "Valeur réelle :  1066 , Valeur prédite :  1050.8791666666668 , |Delta| =  15.120833333333167\n",
      "Valeur réelle :  1009 , Valeur prédite :  1028.1499999999999 , |Delta| =  19.149999999999864\n",
      "Valeur réelle :  999 , Valeur prédite :  1005.8895833333333 , |Delta| =  6.8895833333333485\n",
      "Valeur réelle :  983 , Valeur prédite :  1014.3979166666668 , |Delta| =  31.397916666666788\n",
      "Valeur réelle :  1024 , Valeur prédite :  1028.5708333333334 , |Delta| =  4.570833333333439\n",
      "Valeur réelle :  1033 , Valeur prédite :  1023.6749999999998 , |Delta| =  9.32500000000016\n",
      "Valeur réelle :  1043 , Valeur prédite :  1033.2041666666669 , |Delta| =  9.795833333333121\n",
      "Valeur réelle :  1039 , Valeur prédite :  1028.2604166666665 , |Delta| =  10.739583333333485\n",
      "Valeur réelle :  1038 , Valeur prédite :  1034.1729166666664 , |Delta| =  3.827083333333576\n",
      "Valeur réelle :  1018 , Valeur prédite :  1011.2354166666668 , |Delta| =  6.764583333333235\n",
      "Valeur réelle :  998 , Valeur prédite :  1001.5500000000002 , |Delta| =  3.550000000000182\n",
      "Valeur réelle :  1058 , Valeur prédite :  1033.9375 , |Delta| =  24.0625\n",
      "Valeur réelle :  1010 , Valeur prédite :  1009.7375000000002 , |Delta| =  0.2624999999998181\n",
      "Valeur réelle :  1021 , Valeur prédite :  1026.19375 , |Delta| =  5.193749999999909\n",
      "Valeur réelle :  1038 , Valeur prédite :  1044.1479166666668 , |Delta| =  6.147916666666788\n",
      "Valeur réelle :  993 , Valeur prédite :  1010.9666666666665 , |Delta| =  17.96666666666647\n",
      "Valeur réelle :  1052 , Valeur prédite :  1046.1104166666667 , |Delta| =  5.8895833333333485\n",
      "Valeur réelle :  1038 , Valeur prédite :  1029.9375000000002 , |Delta| =  8.062499999999773\n",
      "Valeur réelle :  1032 , Valeur prédite :  1028.6833333333332 , |Delta| =  3.3166666666668334\n",
      "Valeur réelle :  992 , Valeur prédite :  1003.1854166666668 , |Delta| =  11.18541666666681\n",
      "Valeur réelle :  1030 , Valeur prédite :  1019.925 , |Delta| =  10.075000000000045\n",
      "Valeur réelle :  1001 , Valeur prédite :  991.3541666666667 , |Delta| =  9.645833333333258\n",
      "Valeur réelle :  1023 , Valeur prédite :  1017.6083333333333 , |Delta| =  5.3916666666666515\n",
      "Valeur réelle :  1058 , Valeur prédite :  1044.3416666666667 , |Delta| =  13.658333333333303\n",
      "Valeur réelle :  1039 , Valeur prédite :  1030.25625 , |Delta| =  8.743750000000091\n",
      "Valeur réelle :  1024 , Valeur prédite :  1030.2416666666668 , |Delta| =  6.241666666666788\n",
      "Valeur réelle :  1041 , Valeur prédite :  1037.2499999999998 , |Delta| =  3.7500000000002274\n",
      "Valeur réelle :  1031 , Valeur prédite :  1033.1875000000005 , |Delta| =  2.1875000000004547\n",
      "Valeur réelle :  995 , Valeur prédite :  999.0104166666664 , |Delta| =  4.010416666666401\n",
      "Valeur réelle :  1051 , Valeur prédite :  1041.76875 , |Delta| =  9.231250000000045\n",
      "Valeur réelle :  1000 , Valeur prédite :  1008.7437499999999 , |Delta| =  8.743749999999864\n",
      "Valeur réelle :  986 , Valeur prédite :  1002.6583333333332 , |Delta| =  16.65833333333319\n",
      "Valeur réelle :  1053 , Valeur prédite :  1047.3041666666668 , |Delta| =  5.695833333333212\n",
      "Valeur réelle :  997 , Valeur prédite :  997.3104166666666 , |Delta| =  0.3104166666665833\n",
      "Valeur réelle :  1017 , Valeur prédite :  1018.7395833333334 , |Delta| =  1.7395833333333712\n",
      "Valeur réelle :  971 , Valeur prédite :  996.3520833333334 , |Delta| =  25.35208333333344\n",
      "Valeur réelle :  1048 , Valeur prédite :  1050.897916666667 , |Delta| =  2.8979166666670153\n",
      "Valeur réelle :  1028 , Valeur prédite :  1030.575 , |Delta| =  2.5750000000000455\n",
      "Valeur réelle :  1026 , Valeur prédite :  1031.441666666667 , |Delta| =  5.441666666667061\n",
      "Valeur réelle :  1042 , Valeur prédite :  1031.2562500000001 , |Delta| =  10.743749999999864\n",
      "Valeur réelle :  974 , Valeur prédite :  1008.2916666666667 , |Delta| =  34.29166666666674\n",
      "Valeur réelle :  1005 , Valeur prédite :  1006.8375000000003 , |Delta| =  1.8375000000003183\n",
      "Valeur réelle :  1018 , Valeur prédite :  1032.1645833333334 , |Delta| =  14.16458333333344\n",
      "Valeur réelle :  1010 , Valeur prédite :  1027.5083333333337 , |Delta| =  17.508333333333667\n",
      "Valeur réelle :  1029 , Valeur prédite :  1016.95 , |Delta| =  12.049999999999955\n",
      "Valeur réelle :  988 , Valeur prédite :  1001.1145833333334 , |Delta| =  13.114583333333371\n",
      "Valeur réelle :  1020 , Valeur prédite :  1022.1749999999996 , |Delta| =  2.1749999999996135\n",
      "Valeur réelle :  1048 , Valeur prédite :  1020.83125 , |Delta| =  27.168750000000045\n",
      "Valeur réelle :  983 , Valeur prédite :  999.5708333333332 , |Delta| =  16.570833333333212\n",
      "Valeur réelle :  1033 , Valeur prédite :  1029.1645833333332 , |Delta| =  3.835416666666788\n",
      "Valeur réelle :  1013 , Valeur prédite :  1008.733333333333 , |Delta| =  4.266666666666993\n",
      "Valeur réelle :  1033 , Valeur prédite :  1026.2604166666672 , |Delta| =  6.739583333332803\n",
      "Valeur réelle :  1048 , Valeur prédite :  1047.7041666666669 , |Delta| =  0.2958333333331211\n",
      "Valeur réelle :  1014 , Valeur prédite :  1018.3979166666668 , |Delta| =  4.397916666666788\n",
      "Valeur réelle :  1013 , Valeur prédite :  1016.3916666666667 , |Delta| =  3.3916666666666515\n",
      "Valeur réelle :  1030 , Valeur prédite :  1035.0812500000002 , |Delta| =  5.081250000000182\n",
      "Valeur réelle :  1021 , Valeur prédite :  1032.9520833333331 , |Delta| =  11.952083333333121\n",
      "Valeur réelle :  1022 , Valeur prédite :  1019.5479166666668 , |Delta| =  2.452083333333235\n",
      "Valeur réelle :  1013 , Valeur prédite :  1028.558333333333 , |Delta| =  15.55833333333294\n",
      "Valeur réelle :  991 , Valeur prédite :  1007.4479166666664 , |Delta| =  16.4479166666664\n",
      "Valeur réelle :  1032 , Valeur prédite :  1016.58125 , |Delta| =  15.418750000000045\n",
      "Valeur réelle :  1062 , Valeur prédite :  1031.975 , |Delta| =  30.02500000000009\n",
      "Valeur réelle :  1027 , Valeur prédite :  1030.4125000000001 , |Delta| =  3.4125000000001364\n",
      "Valeur réelle :  1009 , Valeur prédite :  993.7312500000004 , |Delta| =  15.268749999999613\n",
      "Valeur réelle :  1037 , Valeur prédite :  1038.8 , |Delta| =  1.7999999999999545\n",
      "Valeur réelle :  987 , Valeur prédite :  995.1062500000002 , |Delta| =  8.10625000000016\n",
      "Valeur réelle :  1029 , Valeur prédite :  1027.1479166666663 , |Delta| =  1.8520833333336668\n",
      "Valeur réelle :  1015 , Valeur prédite :  1020.3833333333334 , |Delta| =  5.383333333333439\n",
      "Valeur réelle :  1024 , Valeur prédite :  1021.379166666667 , |Delta| =  2.620833333333053\n",
      "Valeur réelle :  972 , Valeur prédite :  991.9666666666665 , |Delta| =  19.96666666666647\n",
      "Valeur réelle :  1003 , Valeur prédite :  1031.6833333333332 , |Delta| =  28.683333333333167\n",
      "Valeur réelle :  988 , Valeur prédite :  995.2083333333337 , |Delta| =  7.208333333333712\n",
      "Valeur réelle :  1049 , Valeur prédite :  1032.3395833333332 , |Delta| =  16.660416666666833\n",
      "Valeur réelle :  1021 , Valeur prédite :  1036.1000000000001 , |Delta| =  15.100000000000136\n",
      "Valeur réelle :  1009 , Valeur prédite :  997.9416666666668 , |Delta| =  11.058333333333167\n",
      "Valeur réelle :  978 , Valeur prédite :  1001.522916666667 , |Delta| =  23.522916666667015\n",
      "Valeur réelle :  1031 , Valeur prédite :  1029.2979166666664 , |Delta| =  1.7020833333335759\n",
      "Valeur réelle :  1036 , Valeur prédite :  1042.1791666666666 , |Delta| =  6.179166666666561\n",
      "Valeur réelle :  1040 , Valeur prédite :  1039.1020833333334 , |Delta| =  0.8979166666665606\n",
      "Valeur réelle :  1032 , Valeur prédite :  1026.5479166666664 , |Delta| =  5.452083333333576\n",
      "Valeur réelle :  1059 , Valeur prédite :  1044.8687499999999 , |Delta| =  14.131250000000136\n",
      "Valeur réelle :  991 , Valeur prédite :  1008.9812500000002 , |Delta| =  17.98125000000016\n",
      "Valeur réelle :  1045 , Valeur prédite :  1031.3416666666667 , |Delta| =  13.658333333333303\n",
      "Valeur réelle :  999 , Valeur prédite :  1035.4937499999999 , |Delta| =  36.493749999999864\n",
      "Valeur réelle :  1043 , Valeur prédite :  1029.2 , |Delta| =  13.799999999999955\n",
      "Valeur réelle :  1043 , Valeur prédite :  1037.7916666666665 , |Delta| =  5.208333333333485\n",
      "Valeur réelle :  1030 , Valeur prédite :  1032.3750000000005 , |Delta| =  2.3750000000004547\n",
      "Valeur réelle :  1013 , Valeur prédite :  1018.0520833333334 , |Delta| =  5.052083333333371\n",
      "Valeur réelle :  1002 , Valeur prédite :  1003.3208333333332 , |Delta| =  1.320833333333212\n",
      "Valeur réelle :  1010 , Valeur prédite :  1015.5520833333334 , |Delta| =  5.552083333333371\n",
      "Valeur réelle :  1010 , Valeur prédite :  1005.2666666666668 , |Delta| =  4.733333333333235\n"
     ]
    }
   ],
   "source": [
    "\n",
    "y_pred_rfr = best_rfr.predict(x_valid)\n",
    "print(y_pred_rfr.shape)\n",
    "print(y_valid.shape)\n",
    "\n",
    "print(\"R2_score : \", r2_score(y_valid, y_pred_rfr))\n",
    "print(\"MSE : \", mean_squared_error(y_valid, y_pred_rfr))\n",
    "\n",
    "# for i in range(len(Y_pred_rfr)):\n",
    "#     print(\"Valeur réelle : \",Y_test_rm[i] ,\", Valeur prédite : \" ,Y_pred_rfr[i], \", |Delta| = \", abs(Y_test_rm[i] - Y_pred_rfr[i] ) )"
   ]
  },
  {
   "cell_type": "code",
   "execution_count": 41,
   "metadata": {},
   "outputs": [
    {
     "data": {
      "image/png": "[encoded data removed]",
      "text/plain": [
       "<Figure size 432x288 with 1 Axes>"
      ]
     },
     "metadata": {
      "needs_background": "light"
     },
     "output_type": "display_data"
    }
   ],
   "source": [
    "plt.plot(y_pred_rfr, y_valid, 'o')\n",
    "plt.show()"
   ]
  }
 ],
 "metadata": {
  "interpreter": {
   "hash": "40d3a090f54c6569ab1632332b64b2c03c39dcf918b08424e98f38b5ae0af88f"
  },
  "kernelspec": {
   "display_name": "Python 3.8.5 64-bit ('base': conda)",
   "language": "python",
   "name": "python3"
  },
  "language_info": {
   "codemirror_mode": {
    "name": "ipython",
    "version": 3
   },
   "file_extension": ".py",
   "mimetype": "text/x-python",
   "name": "python",
   "nbconvert_exporter": "python",
   "pygments_lexer": "ipython3",
   "version": "3.8.10"
  },
  "orig_nbformat": 4
 },
 "nbformat": 4,
 "nbformat_minor": 2
}
